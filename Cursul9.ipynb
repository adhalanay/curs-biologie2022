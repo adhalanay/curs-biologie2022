{
 "cells": [
  {
   "cell_type": "markdown",
   "id": "f3240502-b832-42fb-8425-c85775349a66",
   "metadata": {},
   "source": [
    "``` example\n",
    "```"
   ]
  },
  {
   "cell_type": "markdown",
   "id": "a97495aa-b1fb-4ced-81e4-79039d523e1a",
   "metadata": {
    "kernel": "sagemath"
   },
   "source": [
    "## Dinamica sistemelor discrete\n",
    "\n"
   ]
  },
  {
   "cell_type": "markdown",
   "id": "f6a97935",
   "metadata": {},
   "source": [
    "Să presupunem pentru început că avem un sistem dat de o matrice diagonală. Adică un sistem \n",
    "$$\n",
    "\\begin{align*}\n",
    "x_{n+1} & = & a \\cdot x_{n} \\\\\n",
    "y_{n+1} & = & d \\cdot y_{n}\n",
    "\\end{align*}\n",
    "$$\n",
    "cu valorile inițiale $(x_0,y_0)$. Dacă facem cîteva iterații vedem că $x_1=a\\cdot x_0$, $x_2=ax_1=a^2x_0$, $x_3=a^3x_0$ etc. Deci în general\n",
    "$x_n=a^nx_0$ și la fel $y_n=d^ny_0$. Studiem comportamentul pe termen lung al lui $x_n$ (cel al lui $y_n$ este identic). \n",
    " - Dacă $|a| > 1$ și $x_0 > 0$, atunci \n",
    "      $$\n",
    "      \\lim_{n \\to \\infty} x_n=x_0 \\lim_{n\\to\\infty} a^n = \\infty;\n",
    "      $$\n",
    " - Dacă $|a|=1,$ atunci $x_n=\\pm x_0$ și avem un punct fix sau unul periodic cu perioadă $2$;\n",
    " - Dacă $|a| < 1$ atunci \n",
    "     $$\n",
    "     \\lim_{n \\to \\infty} x_n =0.\n",
    "     $$\n",
    "La fel se întîmplă pentru $y_n$. Comportamentul va fi dat de compunerea celor două componente:\n",
    " - dacă ambii parametri au modulul mai mare decît $1$, atunci originea este un echilibru instabil;\n",
    " - dacă ambii parametri au modulul mai mic decăt $1$, atunci originea este un echilibru stabil;\n",
    " - dacă $|a| < 1$ și $|d|>1$, atunci originea este un punct șa.\n",
    " Semnul fiecărui coeficient ne spune dacă sistemul va oscila în jurul unei axe. De exemplu dacă $a<0$, atunci sistemul va oscila\n",
    " în jurul axei $Oy$, adică $x_n$ va lua alternativ valori pozitive și negative. "
   ]
  },
  {
   "cell_type": "code",
   "execution_count": 12,
   "id": "a4032992-8c06-4cd0-af7c-1198fdc8a4c8",
   "metadata": {},
   "outputs": [
    {
     "data": {
      "application/vnd.jupyter.widget-view+json": {
       "model_id": "e96709b76b5347898cd1c4c869384d6a",
       "version_major": 2,
       "version_minor": 0
      },
      "text/plain": [
       "Interactive function <function <lambda> at 0x7f0c89b63ac0> with 1 widget\n",
       "  itr: IntSlider(value=50, description='itr', min=1)"
      ]
     },
     "metadata": {},
     "output_type": "display_data"
    },
    {
     "data": {
      "text/plain": [
       "<function <lambda> at 0x7f0c89b63ac0>"
      ]
     },
     "execution_count": 12,
     "metadata": {},
     "output_type": "execute_result"
    }
   ],
   "source": [
    "A(a,d)=matrix([[a,0],[0,d]])\n",
    "init=vector([1.1,0.5])\n",
    "def sys_orb(a,d,init,itr):\n",
    "    orb=[]\n",
    "    val=init\n",
    "    orb.append(val)\n",
    "    for i in range(itr):\n",
    "        val=A(a,d)*val\n",
    "        orb.append(val)\n",
    "    return orb\n",
    "def drw(a,d,init,itr):\n",
    "    title=f\"a={a:.1f},d={d:.1f}\"\n",
    "    points(sys_orb(a,d,init,itr),color='red',size=30,title=title).show()\n",
    "interact(lambda itr: drw(1.1,1.2,vector([0.2,0.2]),itr),itr=(1,100,1))"
   ]
  },
  {
   "cell_type": "code",
   "execution_count": 13,
   "id": "de749567",
   "metadata": {},
   "outputs": [
    {
     "data": {
      "application/vnd.jupyter.widget-view+json": {
       "model_id": "25c15579cd984a55afffa42254203620",
       "version_major": 2,
       "version_minor": 0
      },
      "text/plain": [
       "Interactive function <function <lambda> at 0x7f0c88a423b0> with 1 widget\n",
       "  itr: IntSlider(value=50, description='itr', min=1)"
      ]
     },
     "metadata": {},
     "output_type": "display_data"
    },
    {
     "data": {
      "text/plain": [
       "<function <lambda> at 0x7f0c88a423b0>"
      ]
     },
     "execution_count": 13,
     "metadata": {},
     "output_type": "execute_result"
    }
   ],
   "source": [
    "interact(lambda itr: drw(0.8,0.9,vector([0.2,0.2]),itr),itr=(1,100,1))"
   ]
  },
  {
   "cell_type": "code",
   "execution_count": 14,
   "id": "28c65acd",
   "metadata": {},
   "outputs": [
    {
     "data": {
      "application/vnd.jupyter.widget-view+json": {
       "model_id": "b0931c11726240c3b084bc4cc62bc69a",
       "version_major": 2,
       "version_minor": 0
      },
      "text/plain": [
       "Interactive function <function <lambda> at 0x7f0c88730f70> with 1 widget\n",
       "  itr: IntSlider(value=50, description='itr', min=1)"
      ]
     },
     "metadata": {},
     "output_type": "display_data"
    },
    {
     "data": {
      "text/plain": [
       "<function <lambda> at 0x7f0c88730f70>"
      ]
     },
     "execution_count": 14,
     "metadata": {},
     "output_type": "execute_result"
    }
   ],
   "source": [
    "interact(lambda itr: drw(0.9,1.1,vector([0.2,0.2]),itr),itr=(1,100,1))\n"
   ]
  },
  {
   "cell_type": "code",
   "execution_count": 15,
   "id": "18ce2664",
   "metadata": {},
   "outputs": [
    {
     "data": {
      "application/vnd.jupyter.widget-view+json": {
       "model_id": "cce5c5dac1c246e184771b240f9dc47a",
       "version_major": 2,
       "version_minor": 0
      },
      "text/plain": [
       "Interactive function <function <lambda> at 0x7f0c88cd1a20> with 1 widget\n",
       "  itr: IntSlider(value=50, description='itr', min=1)"
      ]
     },
     "metadata": {},
     "output_type": "display_data"
    },
    {
     "data": {
      "text/plain": [
       "<function <lambda> at 0x7f0c88cd1a20>"
      ]
     },
     "execution_count": 15,
     "metadata": {},
     "output_type": "execute_result"
    }
   ],
   "source": [
    "interact(lambda itr: drw(-1.2,1.1,vector([0.4,0.3]),itr),itr=(1,100,1))\n"
   ]
  },
  {
   "cell_type": "code",
   "execution_count": 11,
   "id": "4203ce4a",
   "metadata": {},
   "outputs": [
    {
     "data": {
      "application/vnd.jupyter.widget-view+json": {
       "model_id": "8d31c6a3ff2e44d28237cc06b1974e18",
       "version_major": 2,
       "version_minor": 0
      },
      "text/plain": [
       "Interactive function <function <lambda> at 0x7f0c88d12170> with 1 widget\n",
       "  itr: IntSlider(value=50, description='itr', min=1)"
      ]
     },
     "metadata": {},
     "output_type": "display_data"
    },
    {
     "data": {
      "text/plain": [
       "<function <lambda> at 0x7f0c88d12170>"
      ]
     },
     "execution_count": 11,
     "metadata": {},
     "output_type": "execute_result"
    }
   ],
   "source": [
    "interact(lambda itr:drw(-1.2,-1.1,vector([0.4,0.3]),itr),itr=(1,100,1))"
   ]
  },
  {
   "cell_type": "markdown",
   "id": "528710d1",
   "metadata": {},
   "source": [
    "Studiem acum cazul unei matrice generale. Vom presupune că matricea are două valori proprii reale. Fie matricea\n",
    "$$\n",
    "A=\\left(\\begin{array}{cc} a & b \\\\ c & d\\end{array}\\right).\n",
    "$$\n",
    "Atunci sistemul discret este \n",
    "$$\n",
    "\\begin{align*}\n",
    "x_{n+1} &=& ax_n & + & by_n \\\\\n",
    "y_{n+1} &=& cx_n & + & dy_n\n",
    "\\end{align*}\n",
    "$$"
   ]
  },
  {
   "cell_type": "code",
   "execution_count": null,
   "id": "74050765",
   "metadata": {},
   "outputs": [],
   "source": []
  }
 ],
 "metadata": {
  "kernelspec": {
   "display_name": "SageMath 9.7",
   "language": "sage",
   "name": "sagemath"
  },
  "language_info": {
   "codemirror_mode": {
    "name": "ipython",
    "version": 3
   },
   "file_extension": ".py",
   "mimetype": "text/x-python",
   "name": "python",
   "nbconvert_exporter": "python",
   "pygments_lexer": "ipython3",
   "version": "3.10.8"
  }
 },
 "nbformat": 4,
 "nbformat_minor": 5
}
