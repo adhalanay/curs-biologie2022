{
 "cells": [
  {
   "cell_type": "markdown",
   "id": "725ee6ac",
   "metadata": {},
   "source": [
    "# Matematică cu aplicații în Ecologie - Cursul I"
   ]
  },
  {
   "cell_type": "markdown",
   "id": "02c71d84",
   "metadata": {},
   "source": [
    "## Sisteme cu feedback"
   ]
  },
  {
   "cell_type": "markdown",
   "id": "37caed87",
   "metadata": {},
   "source": [
    "Unul dintre primele studii de ecologie a fost efectuat în Canada pornind de la informațiile furnizate de vînătorii companiei Hudson Bay Company. Au fost analizate două specii rîsul canadian (Lynx canadensis)\n",
    "\n",
    "![Lynx](https://upload.wikimedia.org/wikipedia/commons/thumb/1/1a/Canada_lynx_by_Michael_Zahra_%28cropped%29.jpg/330px-Canada_lynx_by_Michael_Zahra_%28cropped%29.jpg) și principala sa sursă de hrană iepurele de zăpadă (Lepus americanus).\n",
    "\n",
    "![Iepure](https://upload.wikimedia.org/wikipedia/commons/thumb/8/8b/Snowshoe_Hare_%286187109754%29.jpg/330px-Snowshoe_Hare_%286187109754%29.jpg) \n",
    "\n",
    "Numărul de piei de rîși și de iepuri este reprezentat de graficul:\n",
    "\n",
    "![grafic](https://upload.wikimedia.org/wikipedia/commons/thumb/5/5b/Milliers_fourrures_vendues_en_environ_90_ans_odum_1953_en.jpg/660px-Milliers_fourrures_vendues_en_environ_90_ans_odum_1953_en.jpg)\n",
    "\n",
    "sau dacă ne limităm la o perioadă mai scurtă:\n",
    "\n",
    "| ![grafic2](rîși.png) | \n",
    "|:--:|\n",
    "| (reprodus după A.Garfinkel et. al. 2017) | \n",
    "\n",
    "Se observă că populațiile oscilează, dar aceste oscilații nu sînt la întîmplare ci au aproximativ o perioadă de 10 ani. De asemenea se observă că populația de predători crește sau scade cu o oarecare întîrziere față de cea a prăzii.\n",
    "\n",
    "Dacă vrem să analizăm care este cauza acestor oscilații trebuie să **modelăm** interacțiunea între cele două specii. Chiar dacă nu este foarte riguros, observăm că populația de pradă influențează în mod pozitiv populația de prădători, iar dimpotrivă populația de prădători influențează în mod negativ populația prăzii. Dacă știm numărul de rîși și numărul de iepuri la un moment dat și vrem să estimăm cum vor evolua cele două populații, pentru început pare clar că numărul de iepuri va scădea, iar cel de rîși va crește. Dar pe măsură ce numărul de rîși crește, iar cel de iepuri scade, populația prădătorilor va deveni nesustenabilă și va începe să scadă. Este greu de spus cu precizie ce se întîmplă mai departe. De aceea avem nevoie de un model matematic care să modeleze evoluția populației. Următorul aspect este deosebit de important\n",
    "\n",
    "**Fiecare populație determină valoarea celeilalte populații**.\n",
    "\n",
    "Spunem că avem feedback pozitiv, dacă o valoare pozitivă a unei variabile determină creșterea acesteia. Spre exemplu\n",
    "\n",
    "  - dacă o persoană are mulți bani poate să-i investească pentru a obține mai mulți;\n",
    "  - animalele fac pui ceea ce duce la creșterea populației deci la creșterea numărului de pui, prin urmare populația     va crește atîta timp cît resursele o permit;\n",
    "  - creșterea nivelului de $CO_2$ duce la creșterea temperaturii, ceea ce duce la creșterea metabolismului microorganismelor din sol care descompun materia organică și deci produc mai mult $CO_2$.\n",
    "  \n",
    "Avem feedback negativ dacă o valoare pozitivă a unei variabile duce la scăderea acesteia, iar o valoare negativă duce la scăderea acesteia. Un exemplu de astfel de sistem este cel al unui sistem de aer condiționat: cînd temperatura crește, sistemul intră în funcțiune și o scade. Putem presupune că sistemul poate și încălzi aerul și atunci cînd temperatura scade sub un anumit nivel începe să încălzească. Mai precis dacă notăm cu $T_0$ temperatura setată, și cu $C$ tempteratura curentă definim variabila temperatură prin $T=C-T_0$. Deci dacă $T > 0$ sistemul răcește, iar dacă $T<0$ sistemul încălzește.\n",
    "\n",
    "Un alt exemplu clasic de sistem cu feedback negativ este dat de concentrația de glucoză/insulină în sînge. Cînd concentrația de glucoză crește, atunci crește și cea de insulină ceea ce duce la scăderea glicemiei. Pentru o persoană care are o pompă care eliberează in mod continu insulină concentrația de insulină/glucoză variază astfel:\n",
    "\n",
    "| ![insulină](insulină.png) |\n",
    "|:--:|\n",
    "| Sturis, J., Polonsky, K. S., Blackman, J. D., Knudsen, C., Mosekilde, E., & Van Cauter E.\n",
    "(1991a). Aspects of oscillatory insulin secretion. In E. Mosekilde & L. Mosekilde (Eds.),\n",
    "Complexity, Chaos, and Biological Evolution (vol. 270, pp. 75–93). New York: Plenum Press.\n",
    "Sturis, J., Polonsky, K. S., Mosekilde, E., & Van Cauter, E. (1991b). Computer model for mech-\n",
    "anisms underlying ultradian oscillations of insulin and glucose. American Journal of Physiology-\n",
    "Endocrinology and Metabolism, 260 (5), E801–E809. |\n",
    "\n",
    "foarte asemănător cu sistemul rîși/iepuri.\n",
    "\n",
    "În epidemiologie contactele între persoanele infectate și cele susceptibile duce la creșterea numărului de infectați și scăderea numărului de susceptibili, deci numărul de infecții va scădea. Modelele epidemiologice sînt folosite pentru a elabora strategiile de intervenție în cazul unei epidemii. \n",
    "\n",
    "Sistemel cu feedback au adesea comportări ne intuitive. Să presupunem că vrem să reducem numărul de prădători prin scoaterea lor din mediu. Atunci cantitatea de pradă va crește ducînd la creșterea numărului de prădători peste valoarea inițială.  \n"
   ]
  },
  {
   "cell_type": "code",
   "execution_count": null,
   "id": "590c705c",
   "metadata": {},
   "outputs": [],
   "source": []
  }
 ],
 "metadata": {
  "kernelspec": {
   "display_name": "SageMath 9.6",
   "language": "sage",
   "name": "sagemath"
  },
  "language_info": {
   "codemirror_mode": {
    "name": "ipython",
    "version": 3
   },
   "file_extension": ".py",
   "mimetype": "text/x-python",
   "name": "python",
   "nbconvert_exporter": "python",
   "pygments_lexer": "ipython3",
   "version": "3.10.6"
  }
 },
 "nbformat": 4,
 "nbformat_minor": 5
}
