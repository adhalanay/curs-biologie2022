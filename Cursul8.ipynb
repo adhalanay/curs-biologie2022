{
 "cells": [
  {
   "cell_type": "markdown",
   "id": "2fb3d42a",
   "metadata": {},
   "source": [
    "## Vectori și valori proprii"
   ]
  },
  {
   "attachments": {},
   "cell_type": "markdown",
   "id": "2892af50",
   "metadata": {},
   "source": [
    "Pînă acum am văzut că un sistem liniar discret poate avea diferite comportamente, dar am observat acest lucru empiric, iterînd matricea de un număr mare de ori. Astăzi vom vedea cum putem determina riguros comportamentul. Pentru aceasta avem nevoie să studiem valorile și vectorii proprii.\n",
    "\n",
    "Să luăm pentru început o funcție de două variabile formată din două funcții de o singură variabilă:\n",
    "$$\n",
    "f\\left(\\begin{array}{c} x_1 \\\\ x_2 \\end{array}\\right)=\\left(\\begin{array}{c} a_1x_1 \\\\ a_2x_2 \\end{array}\\right),\n",
    "$$\n",
    "adică $f$ are matricea diagonală\n",
    "$$\n",
    "\\left(\\begin{array}{cc} a_1 & 0 \\\\ 0 & a_2 \\end{array}\\right).\n",
    "$$\n",
    "Această funcție acționează prin înmulțirea cu fiecărei componente cu o valoare. Dacă matricea unui sistem discret liniar este diagonală, atunci\n",
    "cele două obiecte pe care le modelăm nu vor interacționa unul cu celălalt.\n",
    "\n",
    "În general, o matrice nu va acționa atît de simplu prin multiplicarea de-a lungul axelor. Tot ce putem spera este să găsim alte două direcții, \n",
    "pe care matricea să acționeze prin multiplicare. Concret avem nevoie să găsim o bază $\\left\\{\\overrightarrow{v_1},\\overrightarrow{v_2}\\right\\}$\n",
    "pentru care \n",
    "$\\renewcommand{\\vecvv}{\\overrightarrow{v}}$\n",
    "$$\n",
    "\\begin{align*}\n",
    "A\\cdot\\overrightarrow{v_1} & = & \\lambda_1\\overrightarrow{v_1} \\\\\n",
    "A\\cdot\\overrightarrow{v_2} & = & \\lambda_2\\vecvv_2 \n",
    "\\end{align*} \n",
    "$$\n",
    "Vectorii nenuli cu acestă proprietate se numesc **vectori proprii**, iar numerele $\\lambda_1$ și $\\lambda_2$ se numesc **valori proprii**.\n",
    "\n",
    "Ca să găsim vectorii și valorile proprii avem de rezolvat un sistem liniar de forma\n",
    "$$\n",
    "A\\vecvv = \\lambda\\vecvv,\n",
    "$$\n",
    "dar valoarea lui $\\lambda$ este de asemenea necunoscută. Să presupunem că \n",
    "$$\n",
    "A = \\left(\\begin{array}{cc} a & b \\\\ c & d\\end{array}\\right)\n",
    "$$\n",
    "și\n",
    "$$\n",
    "\\vecvv=\\left(\\begin{array}{c} x \\\\ y\\end{array}\\right).\n",
    "$$\n",
    "Atunci\n",
    "$$\n",
    "\\begin{align*}\n",
    "ax & + & by & = & \\lambda x \\\\\n",
    "cx & + & dy & = & \\lambda y.\n",
    "\\end{align*}\n",
    "$$\n",
    "Din prima ecuație rezultă că \n",
    "$$\n",
    "x=\\frac{by}{\\lambda-a}.\n",
    "$$\n",
    "Înlocuim în a doua ecuație și obținem\n",
    "$$\n",
    "cb=\\lambda^2-a\\lambda-d\\lambda+ad,\n",
    "$$\n",
    "echivalent\n",
    "$$\n",
    "\\lambda^2-(a+d)\\lambda+ad-cd.\n",
    "$$\n",
    "\n",
    "Această ecuație se numește **ecuația caracteristică** a lui $A$. Valorile proprii ale lui $A$ sînt rădăcinile ei. Rezolvînd această ecuație de \n",
    "gradul 2 obținem cele două valori proprii $\\lambda_1$ și $\\lambda_2$. CunoscÎnd valorile proprii putem calcula vectorii proprii."
   ]
  },
  {
   "cell_type": "markdown",
   "id": "6fda7879",
   "metadata": {},
   "source": []
  }
 ],
 "metadata": {
  "kernelspec": {
   "display_name": "SageMath 9.7",
   "language": "sage",
   "name": "sagemath"
  },
  "language_info": {
   "codemirror_mode": {
    "name": "ipython",
    "version": 3
   },
   "file_extension": ".py",
   "mimetype": "text/x-python",
   "name": "sage",
   "nbconvert_exporter": "python",
   "pygments_lexer": "ipython3",
   "version": "3.10.8"
  }
 },
 "nbformat": 4,
 "nbformat_minor": 5
}
