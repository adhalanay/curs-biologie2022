{
 "cells": [
  {
   "cell_type": "markdown",
   "id": "e22b21be",
   "metadata": {},
   "source": [
    "# Algebră liniară"
   ]
  },
  {
   "cell_type": "markdown",
   "id": "5509bd3f",
   "metadata": {},
   "source": [
    "## Aplicații liniare și sisteme dinamice"
   ]
  },
  {
   "cell_type": "markdown",
   "id": "785db5f2",
   "metadata": {},
   "source": [
    "Vom studia aplicații liniare $f:\\mathbb{R}^n \\to \\mathbb{R}^n$. Vom studia în paralel două aplicații: \n",
    " - la sisteme discrete $\\overrightarrow{X_{N+1}}=f\\left(\\overrightarrow{X_N}\\right);$\n",
    " - la ecuații diferențiale $\\overrightarrow{X'}=f\\left(\\overrightarrow{X}\\right).$\n",
    "\n",
    "Vom nota elementele lui $\\mathbb{R}^n$ vor fi notatate cu $\\overrightarrow{x}$ și\n",
    "$$\n",
    "\\overrightarrow{x}=\\left(\\begin{array}{c}x_1 \\\\ \\vdots \\\\ x_n\\end{array}\\right).\n",
    "$$\n",
    "\n",
    "Vectorii vor fi scriși atît pe verticală cît și pe orizentală. \n",
    "\n",
    "Am văzut la începutul cursului că spațiul stărilor pentu un sistem dinamic este $\\mathbb{R}^n$ și la fel este și spațiul tangent în care trăiesc variațiile. Tot atunci am văzut că pentru vectori avem două operații:\n",
    "  - adunarea vectorilor:\n",
    "     $$\n",
    "     \\overrightarrow{x}+\\overrightarrow{y}=\\left(\\begin{array}{c} x_1+y_1 \\\\ \\vdots \\\\ x_n+y_n\\end{array}\\right).\n",
    "     $$\n",
    "  - înmulțirea cu scalari:\n",
    "    $$\n",
    "    a\\cdot\\overrightarrow{x}=\\left(\\begin{array}{c} ax_1 \\\\ \\vdots \\\\ ax_n \\end{array}\\right).\n",
    "    $$\n",
    "    "
   ]
  },
  {
   "cell_type": "markdown",
   "id": "6f4f81ae",
   "metadata": {},
   "source": [
    "## Combinații liniare și baze"
   ]
  },
  {
   "cell_type": "markdown",
   "id": "5af38146",
   "metadata": {},
   "source": [
    "În $\\mathbb{R}^n$ avem o mulțime specială de vectori, anume \n",
    "$$\n",
    "\\overrightarrow{e_1}=(1,0,\\dots,0),\\overrightarrow{e_2}=(0,1,\\dots,0),\\dots,\\overrightarrow{e_n}=(0,0,\\dots,1).   \n",
    "$$\n",
    "Orice alt vector $\\overrightarrow{x}=(x_1,\\dots,x_n)$ se scrie în mod unic ca $\\overrightarrow{x}=x_1\\overrightarrow{e_1}+\\dots \n",
    "x_n\\overrightarrow{e_n}.$ \n",
    "\n",
    "Spunem că mulțimea $\\left\\{\\overrightarrow{e_1},\\dots,\\overrightarrow{e_n}\\right\\}$ este o bază a lui $\\mathbb{R}^n$, numită *baza canonică*. Vom \n",
    "vedea mai tîrziu și alte exemple de baze.\n",
    "\n",
    "Un vector care se obține dintr-o mulțime de alți vectori folosind doar înmulțirea cu scalari și adunarea se numește **o combinație liniară** a \n",
    "respectivilor vectori."
   ]
  },
  {
   "cell_type": "markdown",
   "id": "f8c82217",
   "metadata": {},
   "source": [
    "## Aplicații liniare"
   ]
  },
  {
   "cell_type": "markdown",
   "id": "cf214717",
   "metadata": {},
   "source": [
    "Am văzut tot la început că o aplicație $f:\\mathbb{R} \\to \\mathbb{R}$ este liniară dacă $f(x+y)=f(x)+f(y)$ și $f(ax)=af(x).$\n",
    "În cazul $n-$dimensional definiția este similară, doar că produsul este înlocuit de înmulțirea cu scalari:\n",
    "\n",
    "**Definiție.** O aplicație $f:\\mathbb{R}^n \\to \\mathbb{R}^n$ se numește liniară dacă:\n",
    "$$\n",
    "\\begin{eqnarray}\n",
    "f(\\overrightarrow{x}+\\overrightarrow{y})=f(\\overrightarrow{x})+f(\\overrightarrow{y}); \\\\\n",
    "f(a\\cdot\\overrightarrow{x})=a\\cdot f(\\overrightarrow{x}).\n",
    "\\end{eqnarray}\n",
    "$$\n",
    "\n",
    "Din definiție nu rezultă cum arată o aplicație liniară. Dar folosind definiția putem deduce acest lucru.\n",
    "\n",
    "Dacă $f:\\mathbb{R}^1 \\to \\mathbb{R}^1$, putem să ne gîndim că $\\mathbb{R}^1$ are baza formată dintr-un singur vector\n",
    "$\\overrightarrow{e}=1$. Atunci orice vector $\\overrightarrow{x}=x\\cdot\\overrightarrow{e}$, deci din liniaritate rezultă că\n",
    "$f(\\overrightarrow{x})=x\\cdot f(1)$. Deci de îndată ce știm $f(1)$, știm toate valorile pe care le ia $f$. Deci o aplicație liniară\n",
    "este în acest caz de forma $f(x)=x\\cdot a$, unde $a=f(1)$.\n",
    "\n",
    "Trecem acum la cazul $f:\\mathbb{R}^2 \\to \\mathbb{R}$. Un vector este de forma\n",
    "$$\\overrightarrow{x}=x_1\\overrightarrow{e_1}+x_2\\overrightarrow{e_2}.$$ Deci $$f(\\overrightarrow{x})=x_1 f(\\overrightarrow{e_1})+x_2\n",
    "f(\\overrightarrow{e_2}).$$\n",
    "\n",
    "Dacă $f(\\overrightarrow{e_1})=a$ și $f(\\overrightarrow{e_2})=b$, atunci $f(\\overrightarrow{x})=x_1\\cdot a+x_2\\cdot b.$\n",
    "\n",
    "Pentru $f:\\mathbb{R}^n \\to \\mathbb{R}$ situația este similară cu cazul precedent: un vector va fi\n",
    "$$\\overrightarrow{x}=x_1\\overrightarrow{e_1}+\\dots+x_n\\overrightarrow{e_n}.$$ Presupunem că\n",
    "$$\n",
    "f(\\overrightarrow{e_1})=a_1,\\dots,f(\\overrightarrow{e_n})=a_n.\n",
    "$$\n",
    "Atunci\n",
    "$$\n",
    "f(\\overrightarrow{x})=a_1x_1+\\dots+a_nx_n.\n",
    "$$\n",
    "\n",
    "Deci orice funcție liniară $\\mathbb{R}^n \\to \\mathbb{R}$ poate fi scrisă ca o combinație liniară de componentele argumentului său.\n",
    "\n",
    "Studiem acum aplicațiile cu valori într-un spațiu de dimensiune mai mare decît $1$. Începem cu aplicațiile $f:\\mathbb{R}^2 \\to\n",
    "\\mathbb{R}^2$. Ca și în cazurile precedente aplicația este determinată de valorile lui $f$ pe elementele bazei. Presupunem\n",
    "$f(\\overrightarrow{e_1})=\\overrightarrow{a_1}$ și $f(\\overrightarrow{e_2})=\\overrightarrow{a_2}.$ Dacă $\\overrightarrow{x}=x_1\\overrightarrow{e_1}+\n",
    "x_2\\overrightarrow{e_2}$ atunci $f(\\overrightarrow{x})=x_1\\overrightarrow{a_1}+x_2\\overrightarrow{a_2}.$ Mai departe fiecare din\n",
    "vectorii \n",
    "$$\n",
    "\\overrightarrow{a_1}=\\left(\\begin{array}{c} a_{11} \\\\ a_{21} \\end{array}\\right) \\text{ și } \n",
    "\\overrightarrow{a_2}=\\left(\\begin{array}{c} a_{12} \\\\ a_{22} \\end{array}\\right).\n",
    "$$\n",
    "Prin urmare $$f(\\overrightarrow{x})=\\left(\\begin{array}{c} a_{11}x_1+a_{12}x_2 \\\\ a_{21}x_1 + a_{22}x_2 \\end{array}\\right).$$\n",
    "Deci $f$ este unic determinată de tabloul \n",
    "$$\n",
    "\\left(\\begin{array}{cc} a_{11} & a_{12} \\\\ a_{21} & a_{22} \\end{array}\\right),\n",
    "$$\n",
    "numit matricea lui $f$ și \n",
    "$$\n",
    "f(\\overrightarrow{x})=\\left(\\begin{array}{cc} a_{11} & a_{12} \\\\ a_{21} & a_{22} \\end{array}\\right)\n",
    "\\left(\\begin{array}{c} x_{1} \\\\ x_{2} \\end{array}\\right).\n",
    "$$"
   ]
  },
  {
   "cell_type": "markdown",
   "id": "96754148",
   "metadata": {},
   "source": [
    "## Un model matricial de populație"
   ]
  },
  {
   "cell_type": "markdown",
   "id": "fdf5d793",
   "metadata": {},
   "source": []
  }
 ],
 "metadata": {
  "kernelspec": {
   "display_name": "SageMath 9.7",
   "language": "sage",
   "name": "sagemath"
  },
  "language_info": {
   "codemirror_mode": {
    "name": "ipython",
    "version": 3
   },
   "file_extension": ".py",
   "mimetype": "text/x-python",
   "name": "python",
   "nbconvert_exporter": "python",
   "pygments_lexer": "ipython3",
   "version": "3.10.8"
  }
 },
 "nbformat": 4,
 "nbformat_minor": 5
}
