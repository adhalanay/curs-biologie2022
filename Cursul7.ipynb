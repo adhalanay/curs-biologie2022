{
 "cells": [
  {
   "cell_type": "markdown",
   "id": "e22b21be",
   "metadata": {},
   "source": [
    "# Algebră liniară"
   ]
  },
  {
   "cell_type": "markdown",
   "id": "5509bd3f",
   "metadata": {},
   "source": [
    "## Aplicații liniare și sisteme dinamice"
   ]
  },
  {
   "cell_type": "markdown",
   "id": "785db5f2",
   "metadata": {},
   "source": [
    "Vom studia aplicații liniare $f:\\mathbb{R}^n \\to \\mathbb{R}^n$. Vom studia în paralel două aplicații: \n",
    " - la sisteme discrete $\\overrightarrow{X_{N+1}}=f\\left(\\overrightarrow{X_N}\\right);$\n",
    " - la ecuații diferențiale $\\overrightarrow{X'}=f\\left(\\overrightarrow{X}\\right).$\n",
    "\n",
    "Vom nota elementele lui $\\mathbb{R}^n$ vor fi notatate cu $\\overrightarrow{x}$ și\n",
    "$$\n",
    "\\overrightarrow{x}=\\left(\\begin{array}{c}x_1 \\\\ \\vdots \\\\ x_n\\end{array}\\right).\n",
    "$$\n",
    "\n",
    "Vectorii vor fi scriși atît pe verticală cît și pe orizentală. \n",
    "\n",
    "Am văzut la începutul cursului că spațiul stărilor pentu un sistem dinamic este $\\mathbb{R}^n$ și la fel este și spațiul tangent în care trăiesc variațiile. Tot atunci am văzut că pentru vectori avem două operații:\n",
    "  - adunarea vectorilor:\n",
    "     $$\n",
    "     \\overrightarrow{x}+\\overrightarrow{y}=\\left(\\begin{array}{c} x_1+y_1 \\\\ \\vdots \\\\ x_n+y_n\\end{array}\\right).\n",
    "     $$\n",
    "  - înmulțirea cu scalari:\n",
    "    $$\n",
    "    a\\cdot\\overrightarrow{x}=\\left(\\begin{array}{c} ax_1 \\\\ \\vdots \\\\ ax_n \\end{array}\\right).\n",
    "    $$\n",
    "    "
   ]
  },
  {
   "cell_type": "markdown",
   "id": "6f4f81ae",
   "metadata": {},
   "source": [
    "## Combinații liniare și baze"
   ]
  },
  {
   "cell_type": "markdown",
   "id": "5af38146",
   "metadata": {},
   "source": [
    "În $\\mathbb{R}^n$ avem o mulțime specială de vectori, anume \n",
    "$$\n",
    "\\overrightarrow{e_1}=(1,0,\\dots,0),\\overrightarrow{e_2}=(0,1,\\dots,0),\\dots,\\overrightarrow{e_n}=(0,0,\\dots,1).   \n",
    "$$\n",
    "Orice alt vector $\\overrightarrow{x}=(x_1,\\dots,x_n)$ se scrie în mod unic ca $\\overrightarrow{x}=x_1\\overrightarrow{e_1}+\\dots \n",
    "x_n\\overrightarrow{e_n}.$ \n",
    "\n",
    "Spunem că mulțimea $\\left\\{\\overrightarrow{e_1},\\dots,\\overrightarrow{e_n}\\right\\}$ este o bază a lui $\\mathbb{R}^n$, numită *baza canonică*. Vom \n",
    "vedea mai tîrziu și alte exemple de baze.\n",
    "\n",
    "Un vector care se obține dintr-o mulțime de alți vectori folosind doar înmulțirea cu scalari și adunarea se numește **o combinație liniară** a \n",
    "respectivilor vectori."
   ]
  },
  {
   "cell_type": "markdown",
   "id": "f8c82217",
   "metadata": {},
   "source": [
    "## Aplicații liniare"
   ]
  },
  {
   "cell_type": "markdown",
   "id": "cf214717",
   "metadata": {},
   "source": [
    "Am văzut tot la început că o aplicație $f:\\mathbb{R} \\to \\mathbb{R}$ este liniară dacă $f(x+y)=f(x)+f(y)$ și $f(ax)=af(x).$\n",
    "În cazul $n-$dimensional definiția este similară, doar că produsul este înlocuit de înmulțirea cu scalari:\n",
    "\n",
    "**Definiție.** O aplicație $f:\\mathbb{R}^n \\to \\mathbb{R}^n$ se numește liniară dacă:\n",
    "$$\n",
    "\\begin{eqnarray}\n",
    "f(\\overrightarrow{x}+\\overrightarrow{y})=f(\\overrightarrow{x})+f(\\overrightarrow{y}); \\\\\n",
    "f(a\\cdot\\overrightarrow{x})=a\\cdot f(\\overrightarrow{x}).\n",
    "\\end{eqnarray}\n",
    "$$\n",
    "\n",
    "Din definiție nu rezultă cum arată o aplicație liniară. Dar folosind definiția putem deduce acest lucru.\n",
    "\n",
    "Dacă $f:\\mathbb{R}^1 \\to \\mathbb{R}^1$, putem să ne gîndim că $\\mathbb{R}^1$ are baza formată dintr-un singur vector\n",
    "$\\overrightarrow{e}=1$. Atunci orice vector $\\overrightarrow{x}=x\\cdot\\overrightarrow{e}$, deci din liniaritate rezultă că\n",
    "$f(\\overrightarrow{x})=x\\cdot f(1)$. Deci de îndată ce știm $f(1)$, știm toate valorile pe care le ia $f$. Deci o aplicație liniară\n",
    "este în acest caz de forma $f(x)=x\\cdot a$, unde $a=f(1)$.\n",
    "\n",
    "Trecem acum la cazul $f:\\mathbb{R}^2 \\to \\mathbb{R}$. Un vector este de forma\n",
    "$$\\overrightarrow{x}=x_1\\overrightarrow{e_1}+x_2\\overrightarrow{e_2}.$$ Deci $$f(\\overrightarrow{x})=x_1 f(\\overrightarrow{e_1})+x_2\n",
    "f(\\overrightarrow{e_2}).$$\n",
    "\n",
    "Dacă $f(\\overrightarrow{e_1})=a$ și $f(\\overrightarrow{e_2})=b$, atunci $f(\\overrightarrow{x})=x_1\\cdot a+x_2\\cdot b.$\n",
    "\n",
    "Pentru $f:\\mathbb{R}^n \\to \\mathbb{R}$ situația este similară cu cazul precedent: un vector va fi\n",
    "$$\\overrightarrow{x}=x_1\\overrightarrow{e_1}+\\dots+x_n\\overrightarrow{e_n}.$$ Presupunem că\n",
    "$$\n",
    "f(\\overrightarrow{e_1})=a_1,\\dots,f(\\overrightarrow{e_n})=a_n.\n",
    "$$\n",
    "Atunci\n",
    "$$\n",
    "f(\\overrightarrow{x})=a_1x_1+\\dots+a_nx_n.\n",
    "$$\n",
    "\n",
    "Deci orice funcție liniară $\\mathbb{R}^n \\to \\mathbb{R}$ poate fi scrisă ca o combinație liniară de componentele argumentului său.\n",
    "\n",
    "Studiem acum aplicațiile cu valori într-un spațiu de dimensiune mai mare decît $1$. Începem cu aplicațiile $f:\\mathbb{R}^2 \\to\n",
    "\\mathbb{R}^2$. Ca și în cazurile precedente aplicația este determinată de valorile lui $f$ pe elementele bazei. Presupunem\n",
    "$f(\\overrightarrow{e_1})=\\overrightarrow{a_1}$ și $f(\\overrightarrow{e_2})=\\overrightarrow{a_2}.$ Dacă $\\overrightarrow{x}=x_1\\overrightarrow{e_1}+\n",
    "x_2\\overrightarrow{e_2}$ atunci $f(\\overrightarrow{x})=x_1\\overrightarrow{a_1}+x_2\\overrightarrow{a_2}.$ Mai departe fiecare din\n",
    "vectorii \n",
    "$$\n",
    "\\overrightarrow{a_1}=\\left(\\begin{array}{c} a_{11} \\\\ a_{21} \\end{array}\\right) \\text{ și } \n",
    "\\overrightarrow{a_2}=\\left(\\begin{array}{c} a_{12} \\\\ a_{22} \\end{array}\\right).\n",
    "$$\n",
    "Prin urmare $$f(\\overrightarrow{x})=\\left(\\begin{array}{c} a_{11}x_1+a_{12}x_2 \\\\ a_{21}x_1 + a_{22}x_2 \\end{array}\\right).$$\n",
    "Deci $f$ este unic determinată de tabloul \n",
    "$$\n",
    "\\left(\\begin{array}{cc} a_{11} & a_{12} \\\\ a_{21} & a_{22} \\end{array}\\right),\n",
    "$$\n",
    "numit matricea lui $f$ și \n",
    "$$\n",
    "f(\\overrightarrow{x})=\\left(\\begin{array}{cc} a_{11} & a_{12} \\\\ a_{21} & a_{22} \\end{array}\\right)\n",
    "\\left(\\begin{array}{c} x_{1} \\\\ x_{2} \\end{array}\\right).\n",
    "$$"
   ]
  },
  {
   "cell_type": "markdown",
   "id": "96754148",
   "metadata": {},
   "source": [
    "## Un model matricial de populație"
   ]
  },
  {
   "cell_type": "markdown",
   "id": "fdf5d793",
   "metadata": {},
   "source": [
    "Ursul negru american (Ursus Americanus)\n",
    "\n",
    "<img src=\"https://upload.wikimedia.org/wikipedia/commons/2/22/Black_Bear_%2820261425192%29.jpg\"  width=\"700\" height=\"500\" />\n",
    "\n",
    "este răspîndit pe întreg teritoriul SUA. Femelele ating maturitatea sexuală în jurul vîrstei de 3-4 ani și\n",
    "trăiesc în sălbăticie intre 15-20 de ani. Fiecare femelă va da naștere o dată la 2 ani și în general va avea 2 pui. Vom împărți populația de urși\n",
    "în două clase: juvenili (pui și animale care nu au atins maturitatea sexuală) și adulți, pe care le vom organiza ca un 2-vector\n",
    "$$\n",
    "\\left(\\begin{array}{c} J \\\\ A \\end{array}\\right).\n",
    "$$\n",
    "În medie o femelă va naște un pui pe an. Ca să simplificăm discuția vom studia doar femelele și deci putem presupune că o femelă va naște $0,5$ pui\n",
    "pe an. în fiecare an 10% din juvenili mor și 25% se maturizează la adulți, deci 65% vor rămîne juvenili. Dacă notăm cu $J_{N}$ numărul de\n",
    "juvenili la momentul $N$ și cu $A_N$ numărul de adulți la momentul $N$, vom avea că $J_{N+1}=0.65 J_N + 0.5 A_N.$ Speranța de viață a unui adult\n",
    "este de aproximativ 14 ani și este adult pentru aproximativ 10 ani. Deci rata de deces per capita este $1/10$, prin urmare 90% din adulți rămîn\n",
    "adulți și în următorul an, de asemenea după cum am văzut 25% din juvenili devin adulți. Obținem în anul $N+1$ o populație de adulți\n",
    "$A_{N+1}=0.25 J_N + 0.9 A_N.$ Modelul de evoluție al populației de urși negri este dat de o funcție liniară\n",
    "$$\n",
    "\\left(\\begin{array}{c} J_{N+1} \\\\ A_{N+1} \\end{array}\\right)= A \\cdot \\left(\\begin{array}{c} J_{N} \\\\ A_{N} \\end{array}\\right),\n",
    "$$\n",
    "cu\n",
    "$$\n",
    "A=\\left(\\begin{array}{cc} 0.65 & 0.5  \\\\ 0.25 & 0.9 \\end{array}\\right).\n",
    "$$\n",
    "\n",
    "Deci dacă știm că într-un an sînt 100 de juvenili și 50 de adulți, atunci în anul următor vom avea 90 de juvenili și 70 de adulți."
   ]
  },
  {
   "cell_type": "markdown",
   "id": "343c8c7e",
   "metadata": {
    "collapsed": false
   },
   "source": [
    "## Compunerea funcțiilor. Produsul matricelor"
   ]
  },
  {
   "cell_type": "markdown",
   "id": "f00a7345",
   "metadata": {
    "collapsed": false
   },
   "source": [
    "Funcțiile pot fi aplicate în mod înlănțuit. Am văzut că putem face acest lucru pentru funcții $\\mathbb{R} \\to \\mathbb{R}.$ Aceeași construcție\n",
    "funcționează și în dimensiuni mai mari. Dacă $f:\\mathbb{R}^n \\to \\mathbb{R}^k$ și $g:\\mathbb{R}^k \\to \\mathbb{R}^p$, atunci putem să construim\n",
    "$f\\circ g (\\overrightarrow{x})=f(g(\\overrightarrow{x})).$ Ne vom concentra mai ales pe cazul în care toate spațiile sînt $\\mathbb{R}^n$.\n",
    "Compunerea a două aplicații liniare $f,g :\\mathbb{R}^n \\to \\mathbb{R}^n$ este tot o aplicație liniară $h:\\mathbb{R}^n \\to \\mathbb{R}^n.$ Dacă $f$\n",
    "și $g$ au matricele $A$, respectiv $B$ în raport cu baza canonică, vrem să determinăm matricea $C$ a lui $h$. Coloanele lui $C$ sînt valorile lui\n",
    "$h$ pentru elementele bazei canonice. Prima coloană este $h(\\overrightarrow{e_1})$. Avem $h(\\overrightarrow{e_1})=f(g(\\overrightarrow{e_1}))$,\n",
    "$g(\\overrightarrow{e_1})=b_{11}\\overrightarrow{e_1}+b_{21}\\overrightarrow{e_2}+\\dots+b_{n1}\\overrightarrow{e_n}$. Aplicăm acum funcția $f$,\n",
    "ținem seama de faptul că aceasta este liniară. Deci prima coloană a lui $C$ se obține înmulțind $g(\\overrightarrow{e_1})$ cu $A$ și la fel pentru\n",
    "restul coloanelor. Deci $C=A\\cdot B,$ produsul matricelor.\n",
    "\n",
    "Revenim la studiul urșilor. Presupunem că este un an prost și natalitatea scade la 40%, mortalitatea juvenililor crește la 50% și doar 10% devin\n",
    "adulți și mortalitatea adulților este 80%, deci\n",
    "$$\n",
    "\\left(\\begin{array}{c} J_{N+1} \\\\ A_{N+1} \\end{array}\\right)= A \\cdot \\left(\\begin{array}{c} J_{N} \\\\ A_{N} \\end{array}\\right),\n",
    "$$\n",
    "cu\n",
    "$$\n",
    "A=\\left(\\begin{array}{cc} 0.55 & 0.4  \\\\ 0.1 & 0.8 \\end{array}\\right).\n",
    "$$\n",
    "Deci dacă un an prost vine după unul nou populația de urși va fi\n",
    "$$\n",
    "\\left(\\begin{array}{cc} 0.55 & 0.4  \\\\ 0.1 & 0.8 \\end{array}\\right)\n",
    "\\left(\\begin{array}{cc} 0.65 & 0.5  \\\\ 0.25 & 0.9 \\end{array}\\right) \\left(\\begin{array}{c} 100 \\\\ 50 \\end{array}\\right)=\n",
    "\\left(\\begin{array}{c} 73 \\\\ 65 \\end{array}\\right).\n",
    "$$"
   ]
  },
  {
   "cell_type": "markdown",
   "id": "61a7bbcd",
   "metadata": {
    "collapsed": false
   },
   "source": [
    "## Comportarea pe termen lung a modelelor matriciale"
   ]
  },
  {
   "cell_type": "markdown",
   "id": "09625711",
   "metadata": {
    "collapsed": false
   },
   "source": [
    "Modelele de tipul celui prezentat se numesc modele matriciale. În particular aceste tipuri de modele pentru populații segregate pe tipuri de\n",
    "vîrstă se numesce modele *Leslie*. Pornind cu o condiție inițială $\\overrightarrow{x}$, atunci\n",
    "$$\n",
    "\\overrightarrow{x}_N=A^N\\overrightarrow{x},\n",
    "$$\n",
    "cu\n",
    "$$\n",
    "A=\\left(\\begin{array}{cc} 0.65 & 0.5  \\\\ 0.25 & 0.9 \\end{array}\\right).\n",
    "$$\n",
    "Pe diagonala lui $A$ se află proporția din populația care rămîne în aceeași grupă de vîrstă, iar valorile care nu sînt pe diagonală ne dau\n",
    "rata de tranziție și rata de deces. Să vedem comportamentul pe termen lung."
   ]
  },
  {
   "cell_type": "code",
   "execution_count": 12,
   "id": "5e46d5fb",
   "metadata": {
    "collapsed": false
   },
   "outputs": [
    {
     "data": {
      "image/png": "[encoded data removed]",
      "text/plain": [
       "Graphics object consisting of 2 graphics primitives"
      ]
     },
     "metadata": {},
     "output_type": "display_data"
    }
   ],
   "source": [
    "x=vector([10,50])\n",
    "A=Matrix([[0.65,0.5],[0.25,0.9]])\n",
    "v_j=[]\n",
    "v_a=[]\n",
    "for n in range(16):\n",
    "    v_j.append(x[0])\n",
    "    v_a.append(x[1])\n",
    "    x=A*x\n",
    "p1=list_plot(v_j,size=30,color='red',legend_label='juvenili')\n",
    "p2=list_plot(v_a,size=30,color='green',legend_label='adulți')\n",
    "(p1+p2).show()"
   ]
  },
  {
   "cell_type": "markdown",
   "id": "cbc7a8b1",
   "metadata": {
    "collapsed": false
   },
   "source": [
    "Se observă că după cîteva iterații numărul de juvenili devine egal cu cel de adulți și ambele cresc. Pentru anii proști avem\n",
    "$$\n",
    "A=\\left(\\begin{array}{cc} 0.5 & 0.4  \\\\ 0.1 & 0.8 \\end{array}\\right).\n",
    "$$"
   ]
  },
  {
   "cell_type": "code",
   "execution_count": 13,
   "id": "a3a0fb3e",
   "metadata": {
    "collapsed": false
   },
   "outputs": [
    {
     "data": {
      "image/png": "[encoded data removed]",
      "text/plain": [
       "Graphics object consisting of 2 graphics primitives"
      ]
     },
     "metadata": {},
     "output_type": "display_data"
    }
   ],
   "source": [
    "x=vector([10,50])\n",
    "A=Matrix([[0.5,0.4],[0.1,0.8]])\n",
    "v_j=[]\n",
    "v_a=[]\n",
    "for n in range(16):\n",
    "    v_j.append(x[0])\n",
    "    v_a.append(x[1])\n",
    "    x=A*x\n",
    "p1=list_plot(v_j,size=30,color='red',legend_label='juvenili')\n",
    "p2=list_plot(v_a,size=30,color='green',legend_label='adulți')\n",
    "(p1+p2).show()\n"
   ]
  },
  {
   "cell_type": "markdown",
   "id": "541f6e75",
   "metadata": {
    "collapsed": false
   },
   "source": [
    "De asemenea valorile pentru juvenili și pentru adulți devin egale, dar ambele scad. La început numărul de juvenili crește, înainte de a scăadea,\n",
    "Un astfel de comportament se numește *tranzient*. Să luăm acum un alt model Leslie\n",
    "$$\n",
    "A=\\left(\\begin{array}{cc} 0.1 & 1.4  \\\\ 0.4 & 0.2 \\end{array}\\right).\n",
    "$$"
   ]
  },
  {
   "cell_type": "code",
   "execution_count": 15,
   "id": "6ce70336",
   "metadata": {
    "collapsed": false
   },
   "outputs": [
    {
     "data": {
      "image/png": "[encoded data removed]",
      "text/plain": [
       "Graphics object consisting of 2 graphics primitives"
      ]
     },
     "metadata": {},
     "output_type": "display_data"
    }
   ],
   "source": [
    "x=vector([10,50])\n",
    "A=Matrix([[0.1,1.4],[0.4,0.2]])\n",
    "v_j=[]\n",
    "v_a=[]\n",
    "for n in range(30):\n",
    "    v_j.append(x[0])\n",
    "    v_a.append(x[1])\n",
    "    x=A*x\n",
    "p1=list_plot(v_j,size=30,color='red',legend_label='juvenili')\n",
    "p2=list_plot(v_a,size=30,color='green',legend_label='adulți')\n",
    "(p1+p2).show()"
   ]
  },
  {
   "cell_type": "markdown",
   "id": "2edf18db",
   "metadata": {
    "collapsed": false
   },
   "source": [
    "În acest caz valorile se apropie de echilibrul stabil $(0,0)$ de o manieră oscilantă."
   ]
  },
  {
   "cell_type": "code",
   "execution_count": null,
   "id": "1a447719",
   "metadata": {
    "collapsed": false
   },
   "outputs": [],
   "source": []
  }
 ],
 "metadata": {
  "kernelspec": {
   "display_name": "SageMath 9.7",
   "language": "sage",
   "name": "sagemath"
  },
  "language_info": {
   "codemirror_mode": {
    "name": "ipython",
    "version": 3
   },
   "file_extension": ".py",
   "mimetype": "text/x-python",
   "name": "python",
   "nbconvert_exporter": "python",
   "pygments_lexer": "ipython3",
   "version": "3.10.8"
  }
 },
 "nbformat": 4,
 "nbformat_minor": 5
}
