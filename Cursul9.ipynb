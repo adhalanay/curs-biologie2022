{
 "cells": [
  {
   "cell_type": "markdown",
   "id": "f3240502-b832-42fb-8425-c85775349a66",
   "metadata": {},
   "source": [
    "``` example\n",
    "```"
   ]
  },
  {
   "cell_type": "markdown",
   "id": "a97495aa-b1fb-4ced-81e4-79039d523e1a",
   "metadata": {
    "kernel": "sagemath"
   },
   "source": [
    "## Dinamica sistemelor discrete\n",
    "\n"
   ]
  },
  {
   "attachments": {},
   "cell_type": "markdown",
   "id": "f6a97935",
   "metadata": {},
   "source": [
    "Să presupunem pentru început că avem un sistem dat de o matrice diagonală. Adică un sistem \n",
    "$$\n",
    "\\begin{align*}\n",
    "x_{n+1} & = & a \\cdot x_{n} \\\\\n",
    "y_{n+1} & = & d \\cdot y_{n}\n",
    "\\end{align*}\n",
    "$$\n",
    "cu valorile inițiale $(x_0,y_0)$. Dacă facem cîteva iterații vedem că $x_1=a\\cdot x_0$, $x_2=ax_1=a^2x_0$, $x_3=a^3x_0$ etc. Deci în general\n",
    "$x_n=a^nx_0$ și la fel $y_n=d^ny_0$. Studiem comportamentul pe termen lung al lui $x_n$ (cel al lui $y_n$ este identic). \n",
    " - Dacă $|a| > 1$ și $x_0 > 0$, atunci \n",
    "      $$\n",
    "      \\lim_{n \\to \\infty} x_n=x_0 \\lim_{n\\to\\infty} a^n = \\infty;\n",
    "      $$\n",
    " - Dacă $|a|=1,$ atunci $x_n=\\pm x_0$ și avem un punct fix sau unul periodic cu perioadă $2$;\n",
    " - Dacă $|a| < 1$ atunci \n",
    "     $$\n",
    "     \\lim_{n \\to \\infty} x_n =0.\n",
    "     $$"
   ]
  },
  {
   "cell_type": "markdown",
   "id": "301fb3ee",
   "metadata": {},
   "source": []
  }
 ],
 "metadata": {
  "kernelspec": {
   "display_name": "SageMath 9.7",
   "language": "sage",
   "name": "sagemath"
  },
  "language_info": {
   "name": "sage"
  }
 },
 "nbformat": 4,
 "nbformat_minor": 5
}
