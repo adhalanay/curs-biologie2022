{
 "cells": [
  {
   "cell_type": "markdown",
   "id": "1bd58ef0",
   "metadata": {},
   "source": [
    "# Elemente de teoria probabilităților"
   ]
  },
  {
   "cell_type": "markdown",
   "id": "8c98ca7a",
   "metadata": {},
   "source": [
    "## Recapitulare combinatorică"
   ]
  },
  {
   "cell_type": "markdown",
   "id": "312261a7",
   "metadata": {},
   "source": [
    "O **permutare** a unei mulțimi de obiecte este o aranjare ordonată a elementelor. Dacă avem $n$ obiecte atunci numărul de permutări\n",
    "se poate calcula astfel: avem $n$ posibiltăți pentru alegerea obiectului de pe locul întîi, apoi $n-1$ posibilități pentru a \n",
    "doua poziție, $n-2$ pentru a treia etc. Deci  numărul de permutări de $n$ obiecte este $n\\cdot(n-1)\\cdot(n-2)\\cdot\\dots1=n!.$\n",
    "\n",
    "Dacă luăm cîte $k$ elemente din cele $n$, numărul permutărilor posibile este \n",
    "$$\n",
    "A_n^k=\\frac{n!}{(n-k)!}.\n",
    "$$\n",
    "\n",
    "Spre exemplu dacă într-un vas se află $4$ bile colorate (de culori diferite). Dacă luăm cîte două bile o dată, atunci \n",
    "avem $$\\frac{4!}{2!}=\\frac{24}{2}=12$$ \n",
    "posibilități.\n",
    "\n",
    "O **combinație** este submulțime *neordonată* a unei mulțimi. Deci într-o combinație nu contează ordinea elementelor. Numărul\n",
    "de combinații de $n$ elemente luate cîte $k$ este\n",
    "$$\n",
    "C_n^k=\\frac{A_n^k}{k!}=\\frac{n!}{k!(n-k)!}.\n",
    "$$\n",
    "\n",
    "Dacă într-un vas sînt $6$ bile colorate și luăm cîte $4$, atunci avem \n",
    "$$\n",
    "C_6^4=\\frac{6!}{2!4!}=\\frac{5\\cdot6}{2}=15.\n",
    "$$\n",
    "\n",
    "Un alt exemplu este dat de comportamentul HIV. După infectarea unei persoane cu HIV acesta suferă numeroase mutații rezultînd\n",
    "numeroase genotipuri. La transmitere însă, doar cîteva genotipuri se transmit. Să presupunem că o persoană infectată posedă\n",
    "150 de genotipuri, dar transmite doar 10 gentotipuri. Cîte posibilități pentru transmiterea genotipurilor sînt?\n",
    "\n",
    "Răspunsul este $$C_{150}^10=\\frac{150!}{10!140!}=1.169.554.298.222.310$$"
   ]
  },
  {
   "cell_type": "code",
   "execution_count": 6,
   "id": "4a344787",
   "metadata": {},
   "outputs": [
    {
     "name": "stdout",
     "output_type": "stream",
     "text": [
      "57133839564458545904789328652610540031895535786011264182548375833179829124845398393126574488675311145377107878746854204162666250198684504466355949195922066574942592095735778929325357290444962472405416790722118445437122269675520000000000000000000000000000000000000\n",
      "13462012475717524605876073858941615558355851148193967190051391468057460367090535696797920946629681836680869097041958983702264048370902871114013579941370766400374327741701139895604871545254810788060989321379840000000000000000000000000000000000\n",
      "3628800\n",
      "1169554298222310\n"
     ]
    },
    {
     "data": {
      "text/plain": [
       "1169554298222310"
      ]
     },
     "execution_count": 6,
     "metadata": {},
     "output_type": "execute_result"
    }
   ],
   "source": [
    "N1=factorial(150)\n",
    "print(N1)\n",
    "N2=factorial(140)\n",
    "print(N2)\n",
    "N3=factorial(10)\n",
    "print(N3)\n",
    "N=N1/(N2*N3)\n",
    "print(N)\n",
    "binomial(150,10)"
   ]
  },
  {
   "cell_type": "markdown",
   "id": "0fe9ec27",
   "metadata": {},
   "source": [
    "## Probabilități"
   ]
  },
  {
   "cell_type": "markdown",
   "id": "9978f535",
   "metadata": {},
   "source": [
    "Teoria Probabilităților măsoară incertitudinea. Avem nevoie de unele noțiuni pentru a aplica riguros această măsură. O noțiune \n",
    "centrală este aceea de **experiment**: este o procedură care poate fi repetată de un număr indefinit de ori în condiții \n",
    "identice. Fiecare aplicare a unui experiment se numește **încercare**. Mulțimea tuturor rezultatelor posibile se numește\n",
    "**spațiul de selecție**.\n",
    "\n",
    "Spre exemplu pentru aruncarea unei monezi, spațiu de selecție este $\\Omega=\\left\\{H,T\\right\\}$. Pentru aruncarea unui zar \n",
    "$\\Omega=\\left\\{1,2,3,4,5,6\\right\\}$. Orice submulțime a spațiului de selecție se numește **eveniment**. Dacă evenimentul\n",
    "constă dintr-un singur rezultat acesta se numește simplu, iar dacă nu se numește compus."
   ]
  },
  {
   "cell_type": "code",
   "execution_count": null,
   "id": "9b631db2",
   "metadata": {},
   "outputs": [],
   "source": []
  }
 ],
 "metadata": {
  "kernelspec": {
   "display_name": "SageMath 9.7",
   "language": "sage",
   "name": "sagemath"
  },
  "language_info": {
   "codemirror_mode": {
    "name": "ipython",
    "version": 3
   },
   "file_extension": ".py",
   "mimetype": "text/x-python",
   "name": "python",
   "nbconvert_exporter": "python",
   "pygments_lexer": "ipython3",
   "version": "3.10.9"
  }
 },
 "nbformat": 4,
 "nbformat_minor": 5
}
