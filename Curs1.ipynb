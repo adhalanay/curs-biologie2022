{
 "cells": [
  {
   "cell_type": "markdown",
   "id": "725ee6ac",
   "metadata": {},
   "source": [
    "# Matematică cu aplicații în Ecologie - Cursul I"
   ]
  },
  {
   "cell_type": "markdown",
   "id": "02c71d84",
   "metadata": {},
   "source": [
    "## Sisteme cu feedback"
   ]
  },
  {
   "cell_type": "markdown",
   "id": "37caed87",
   "metadata": {},
   "source": [
    "Unul dintre primele studii de ecologie a fost efectuat în Canada pornind de la informațiile furnizate de vînătorii companiei Hudson Bay Company. Au fost analizate două specii rîsul canadian (Lynx canadensis)\n",
    "\n",
    "![Lynx](https://upload.wikimedia.org/wikipedia/commons/thumb/1/1a/Canada_lynx_by_Michael_Zahra_%28cropped%29.jpg/330px-Canada_lynx_by_Michael_Zahra_%28cropped%29.jpg) și principala sa sursă de hrană iepurele de zăpadă (Lepus americanus).\n",
    "\n",
    "![Iepure](https://upload.wikimedia.org/wikipedia/commons/thumb/8/8b/Snowshoe_Hare_%286187109754%29.jpg/330px-Snowshoe_Hare_%286187109754%29.jpg) \n",
    "\n",
    "Numărul de piei de rîși și de iepuri este reprezentat de graficul:\n",
    "\n",
    "![grafic](https://upload.wikimedia.org/wikipedia/commons/thumb/5/5b/Milliers_fourrures_vendues_en_environ_90_ans_odum_1953_en.jpg/660px-Milliers_fourrures_vendues_en_environ_90_ans_odum_1953_en.jpg)\n",
    "\n",
    "sau dacă ne limităm la o perioadă mai scurtă:\n",
    "\n",
    "| ![grafic2](rîși.png) | \n",
    "|:--:|\n",
    "| (reprodus după A.Garfinkel et. al. 2017) | \n",
    "\n",
    "Se observă că populațiile oscilează, dar aceste oscilații nu sînt la întîmplare ci au aproximativ o perioadă de 10 ani. De asemenea se observă că populația de predători crește sau scade cu o oarecare întîrziere față de cea a prăzii.\n",
    "\n",
    "Dacă vrem să analizăm care este cauza acestor oscilații trebuie să **modelăm** interacțiunea între cele două specii. Chiar dacă nu este foarte riguros, observăm că populația de pradă influențează în mod pozitiv populația de prădători, iar dimpotrivă populația de prădători influențează în mod negativ populația prăzii. Dacă știm numărul de rîși și numărul de iepuri la un moment dat și vrem să estimăm cum vor evolua cele două populații, pentru început pare clar că numărul de iepuri va scădea, iar cel de rîși va crește. Dar pe măsură ce numărul de rîși crește, iar cel de iepuri scade, populația prădătorilor va deveni nesustenabilă și va începe să scadă. Este greu de spus cu precizie ce se întîmplă mai departe. De aceea avem nevoie de un model matematic care să modeleze evoluția populației. Următorul aspect este deosebit de important\n",
    "\n",
    "**Fiecare populație determină valoarea celeilalte populații**.\n",
    "\n",
    "Spunem că avem feedback pozitiv, dacă o valoare pozitivă a unei variabile determină creșterea acesteia. Spre exemplu\n",
    "\n",
    "  - dacă o persoană are mulți bani poate să-i investească pentru a obține mai mulți;\n",
    "  - animalele fac pui ceea ce duce la creșterea populației deci la creșterea numărului de pui, prin urmare populația     va crește atîta timp cît resursele o permit;\n",
    "  - creșterea nivelului de $CO_2$ duce la creșterea temperaturii, ceea ce duce la creșterea metabolismului microorganismelor din sol care descompun materia organică și deci produc mai mult $CO_2$.\n",
    "  \n",
    "Avem feedback negativ dacă o valoare pozitivă a unei variabile duce la scăderea acesteia, iar o valoare negativă duce la scăderea acesteia. Un exemplu de astfel de sistem este cel al unui sistem de aer condiționat: cînd temperatura crește, sistemul intră în funcțiune și o scade. Putem presupune că sistemul poate și încălzi aerul și atunci cînd temperatura scade sub un anumit nivel începe să încălzească. Mai precis dacă notăm cu $T_0$ temperatura setată, și cu $C$ tempteratura curentă definim variabila temperatură prin $T=C-T_0$. Deci dacă $T > 0$ sistemul răcește, iar dacă $T<0$ sistemul încălzește.\n",
    "\n",
    "Un alt exemplu clasic de sistem cu feedback negativ este dat de concentrația de glucoză/insulină în sînge. Cînd concentrația de glucoză crește, atunci crește și cea de insulină ceea ce duce la scăderea glicemiei. Pentru o persoană care are o pompă care eliberează in mod continu insulină concentrația de insulină/glucoză variază astfel:\n",
    "\n",
    "| ![insulină](insulină.png) |\n",
    "|:--:|\n",
    "| Sturis, J., Polonsky, K. S., Blackman, J. D., Knudsen, C., Mosekilde, E., & Van Cauter E.\n",
    "(1991a). Aspects of oscillatory insulin secretion. In E. Mosekilde & L. Mosekilde (Eds.),\n",
    "Complexity, Chaos, and Biological Evolution (vol. 270, pp. 75–93). New York: Plenum Press.\n",
    "Sturis, J., Polonsky, K. S., Mosekilde, E., & Van Cauter, E. (1991b). Computer model for mech-\n",
    "anisms underlying ultradian oscillations of insulin and glucose. American Journal of Physiology-\n",
    "Endocrinology and Metabolism, 260 (5), E801–E809. |\n",
    "\n",
    "foarte asemănător cu sistemul rîși/iepuri.\n",
    "\n",
    "În epidemiologie contactele între persoanele infectate și cele susceptibile duce la creșterea numărului de infectați și scăderea numărului de susceptibili, deci numărul de infecții va scădea. Modelele epidemiologice sînt folosite pentru a elabora strategiile de intervenție în cazul unei epidemii. \n",
    "\n",
    "Sistemele cu feedback au adesea comportări ne intuitive. Să presupunem că vrem să reducem numărul de prădători prin scoaterea lor din mediu. Atunci cantitatea de pradă va crește ducînd la creșterea numărului de prădători peste valoarea inițială.  \n"
   ]
  },
  {
   "cell_type": "markdown",
   "id": "ac2f49dd",
   "metadata": {},
   "source": [
    "## Funcții"
   ]
  },
  {
   "cell_type": "markdown",
   "id": "dc1972de",
   "metadata": {},
   "source": [
    "Un concept fundamental de care avem nevoie pentru a descrie un fenomen este cel de **funcție**. Am văzut în graficele prezentate că fiecărui moment îi corespunde exact o valoare. Mai precis o funcție este o relație între o mulțime de date de intrare și una de date de ieșire astfel încît fiecărui input îi este asociat **exact** un output, nu mai multe și nu nici unul. \n",
    "\n",
    "Funcțiile pot fi definite cu ajutorul unui tabel cu două coloane de lungime egală, dar cel mai adesea vor fi definite prin formule. Spre exemplu funcția $f(x)=x^2$ asociază fiecărui număr $x$ valoarea $x^2$. Putem scrie formula $y=x^2$. \n",
    "\n",
    "Două aspecte sînt extrem de importante:\n",
    "  - Nu orice formulă definește o funcție: spre exmplu formula $y^2=x^2$ nu definește o funcție deoarece pentru $x=2$ avem două valori pentru $y$, anume $y=2$ și $y=-2;$\n",
    "  - Nu orice serie temporală (grafic) poate fi descrisă cu o formulă explicită. De fapt nici unul din graficele prezentate nu este graficul unei funcții explicit formulate.\n",
    "  \n",
    "Mulțimea valorilor de intrare ale unei funcții se numește **domeniul** acesteia. De obicei domeniul funcțiilor va fi mulțimea numerelor reale $\\mathbb{R}$, sau o submulțime a acesteia. Putem alege ce domeniu dorim pentru funcția noastră, atîta timp cît ea are sens. Spre exemplu pentru funcția $f(x)=\\frac{1}{x}$ domeniul nu trebuie să-l conțină pe $0$, dar poate fi altfel arbitrar. \n",
    "\n",
    "Mulțimea valorilor de ieșire se numește **codomeniul** acesteia. Spre exemplu codomeniul funcției $f(x)=x^2$ este mulțimea $\\mathbb{R}_+$ a numerelor reale pozitive. Pentru o funcție cu domeniu $X$ și codomeniu $Y$ notăm $f:X \\to Y$.\n",
    "\n",
    "Un exemplu interesant provine din biologia moleculară. După cum se știe ADN-ul este compus dintr-un șir de patru baze $A,C,G,T.$ Cînd ADN-ul este transpus în ARN mesager baza $T$ este înlocuită de o altă bază $U$. Avem deci o funcție \n",
    "$$\n",
    "transcriere: \\left\\{A,C,G,T\\right\\} \\to \\left\\{A,C,G,U\\right\\}.\n",
    "$$\n",
    "\n",
    "De fapt transcrierea ia o tripletă de baze ADN (codonul) și o duce într-un codon ARN. Un codon ARN determină ca un anumit amino-acid să fie adăugat unei proteine. Cum fiecare codon determină un singur amino-acid, avem o nouă funcție, numită translație \n",
    "$$\n",
    "translație : \\text{codoni ARN} \\to \\text{amino-acizi}.\n",
    "$$\n",
    "Avem un proces numit expresie genetică \n",
    "$$\n",
    "expr-gen: \\text{codoni ADN} \\to \\text{amino-acizi. }\n",
    "$$\n",
    "Funcția se obține aplicînd succesiv cele două funcții. Acest proces se numește compunere de funcții. \n",
    "\n",
    "Un alt exemplu: dacă $f(x)=2x^2+1$ și $g(x)=\\sqrt{x}$, atunci $(g\\circ f)(x)=\\sqrt{2x^2+1}$ și $(f\\circ g)(x)=\n",
    "2x+1.$\n",
    "\n",
    "**Exercițiu:** Presupunem că există viață pe Marte similară cu o structură genetică foarte asemănătoare cu a noastră, dar codonii ARN se comportă diferit. Spre exemplu codonul $AUC$ produce în 60% din cazuri izoleucină și în 40% treonină. Mai este expresia genetică o funcție?"
   ]
  },
  {
   "cell_type": "markdown",
   "id": "8cc655c2",
   "metadata": {},
   "source": [
    "## Spațiul stărilor"
   ]
  },
  {
   "cell_type": "markdown",
   "id": "20c410dc",
   "metadata": {},
   "source": [
    "Variabilele de stare sînt instrumentele de bază pentru a descrie cantitativ sistemele biologice la un moment dat. Spre exemplu starea unei populații este mărimea ei. Este extrem de important să alegem ce variabile să studiem în funcție de problema care ne interesează. În cazul populației putem fi interesați de reportul între sexe, distribuția\n",
    "pe clase de vîrstă, distribuția teritorială etc. Cea mai importantă și dificilă parte a creerii unui model este alegerea unor variabile de stare relevante precum și a unor unități de măsură potrivite.\n",
    "\n",
    "Cum orice variabilă de stare poate lua o singură valoare la un moment dat:**Variabilele de stare sînt funcții de timp**. Scopul modelării matematice este să înțelegem evoluția în timp a sistemului, deci este important să considerăm toate valorile posibile pentru variabilele de stare. Mulțimea tuturor acestor valori posibile se numește\n",
    "**spațiul stărilor.** Vom presupune că spațiul stărilor este o muțime de numere, și de asemenea vom presupune că pot lua orice valori între anumite limite (ipoteza de continuitate).\n",
    "\n",
    "Dacă avem o singură variabilă de stare atunci spațiul stărilor va fi mulțimea numerelor reale sau un interval.\n",
    "\n",
    "Dacă avem mai multe variabile de stare, de exemplu pentru rîși și iepuri, atunci spațiul stărilor va fi format din perechi de numere $(R,I).$ Chiar dacă spațiul stărilor nu mai este format din numere reale putem să redefinim două operații\n",
    "   - adunarea lor: $(R_1,I_1)+(R_2,I_2)=(R_1+R_2,I_1+I_2)$ (adunarea pe componente);\n",
    "   - înmulțirea cu un număr: $a(R,I)=(aR,aI)$ (înmulțirea cu scalari).\n",
    " \n",
    "Dacă spațiul stărilor este format din perechi de numere atunci putem desena cîte o axă pentru fiecare componentă:"
   ]
  },
  {
   "cell_type": "code",
   "execution_count": 41,
   "id": "168576a2",
   "metadata": {},
   "outputs": [
    {
     "data": {
      "image/png": "[encoded data removed]",
      "text/plain": [
       "Graphics object consisting of 1 graphics primitive"
      ]
     },
     "metadata": {},
     "output_type": "display_data"
    }
   ],
   "source": [
    "pl=plot([],frame=True,figsize=(7,7),title='Rîși vs. Iepuri')\n",
    "pl+=scatter_plot([(2,3),(1,1),(3,4),(5,1)])\n",
    "pl.axes_labels(['Iepuri','Rîși'])\n",
    "#pl.set_legend_options(ncol=2,loc=9)\n",
    "#pl += text('Rîși vs. Iepuri', (3,6),fontsize=14)\n",
    "show(pl)"
   ]
  },
  {
   "cell_type": "markdown",
   "id": "dca68140",
   "metadata": {},
   "source": [
    "Vom numi în continuare o pereche de numere un **2-vector**, iar fiecare număr care îl constituie va fi numit o **componentă**. Un vector poate fi reprezentat ca o pereche ca mai sus sau ca o săgeată:"
   ]
  },
  {
   "cell_type": "code",
   "execution_count": 55,
   "id": "65c8f842",
   "metadata": {},
   "outputs": [
    {
     "data": {
      "image/png": "[encoded data removed]",
      "text/plain": [
       "Graphics object consisting of 2 graphics primitives"
      ]
     },
     "metadata": {},
     "output_type": "display_data"
    }
   ],
   "source": [
    "p1=arrow((0,0),(1.985,2.985))\n",
    "p2=point((2,3),size=100,color='red')\n",
    "show(p1+p2)"
   ]
  },
  {
   "cell_type": "markdown",
   "id": "48408252",
   "metadata": {},
   "source": [
    "Această reprezentare ne permite o interpretare geometrică a înmulțirii cu scalari: dacă moudulul scalarului este mai mic decît $1$, atunci vectorul se scurtează, dacă modulul este mai mare decît $1$, acesta se lungește.\n",
    "\n",
    "Adesea sîntem nevoiți să considerăm mai multe variabile. Atunci pentru a descrie spațiul fazelor vom avea nevoie de mai multe axe, cîte una pentru fiecare variabilă. Numărul de axe necesar se numește **dimensiunea** spațiului stărilor. Evident că nu putem vizualiza astfel de vectori, dar va trebui să lucrăm cu vectori cu orice număr de\n",
    "componente. Ca și în cazul $2-$vectorilor putem aduna doi vectori:\n",
    "  - Dacă $\\mathbf{a}=(a_1,\\dots,a_n)$ și $\\mathbf{b}=(b_1,\\dots,b_n)$ atunci $\\mathbf{a}+\\mathbf{b}=(a_1+b_1,\n",
    "  \\dots,a_n+b_n).$ **Ca să putem aduna doi vectori, trebuie ca aceștia să aibă aceeași dimensiune.**\n",
    "  - Dacă $\\mathbf{a}=(a_1\\dots,a_n)$, atunci $\\alpha\\cdot\\mathbf{a}=(\\alpha a_1,\\dots,\\alpha a_n).$\n",
    "\n",
    "Mulțimea $n-$vectorilor se notează cu $\\mathbb{R}^n$. "
   ]
  },
  {
   "cell_type": "markdown",
   "id": "c77a3726",
   "metadata": {},
   "source": [
    "## Schimbarea în spațiul stărilor"
   ]
  },
  {
   "cell_type": "markdown",
   "id": "109e5ebe",
   "metadata": {},
   "source": [
    "Scopul oricărui model este să înțelegem cauzele schimbării unui sistem în timp și să prezicem evoluția lui în viitor. Dacă $x$ este o variabilă de stare, vom nota cu $x'$ sau cu $\\Delta x$. De exemplu dacă $x$ este valoarea deținută într-un cont atunci $x'=d+r$, unde $d$ este suma depusă, iar $r$ este dobînda amîndouă măsurate în RON/lună.\n",
    "\n",
    "Să presupunem acum că $x$ măsoară cantitatea de apă dintr-un bazin care se golește pe la fund. Atunci cantitatea de apă care se scurge într-un minut, să zicem, va depinde de cantitatea de apă din bazin. Să presupunem că viteza de curgere este proporțională cu cantitatea de apă. Avem \n",
    "$$\n",
    "x'=-kx,\n",
    "$$\n",
    "pentru o constantă *pozitivă* $k$. $x'$ se măsoară în $\\frac{l}{min}$, $x$ în $l$, deci $k$ trebuie să fie măsurată în $\\frac{1}{min}$.\n",
    "\n",
    "În modelele pe care le vom studia, schimbarea variabilei de stare va depinde atît de valoarea sa, dar și de *parametrii*, constante care nu se schimbă în timp. \n",
    "\n",
    "Dacă vrem să modelăm cum se răcește o cană de cafea într-o cameră mai rece, începem prin a nota cu $T$ temperatura sa în $^\\circ$K. Conform legii lui Newton rata de schimbare este proporțională cu diferența între $T$ și $r$, unde $r$ este temperatura camerei:\n",
    "$$\n",
    "T'=c\\cdot(T-r),\n",
    "$$\n",
    "unde $c$ este o constantă. Sistemul nostru va depinde de doi parametrii $r$ și $c$. Vrem să studiem mai atent pe $c$. Cum cafeaua este mai caldă decît camera avem $T-r> 0$. În timp cafeaua se va răci deci $T' < 0$ prin urmare $c <0$. La fel dacă este vorba de o cafea cu gheață care se încălzește, atunci $T-r < 0$, $T' > 0$ și iarăși $c<0$. Ecuația finală va fi\n",
    "$$\n",
    "T'=k(T-r).\n",
    "$$"
   ]
  },
  {
   "cell_type": "markdown",
   "id": "ace7fb1c",
   "metadata": {},
   "source": [
    "## Cîteva modele"
   ]
  },
  {
   "cell_type": "markdown",
   "id": "706cacb8",
   "metadata": {},
   "source": [
    "### Un model simplificat de populație"
   ]
  },
  {
   "cell_type": "markdown",
   "id": "2639b479",
   "metadata": {},
   "source": [
    "Notăm cu $x$ numărul de animale dintr-o specie trăind pe un anumit teritoriu. Avem $x'=$rata nașterilor-rata deceselor.Trebuie acum să reprezentăm matematic cele două mărimi. Pentru început să presupunem că animalele nu mor (de exemplu dacă intervalul de timp este mult mai mic decît durata de viață). Facem o nouă presupunere simplifciatoare: animalele nu au sex (oricare este capabil să dea naștere), toate animalele au aceeași fertilitate de-a lungul vieții și toate animalele au aceeași șansă să nască. Să presupunem că rata de naștere este $b=0.5$, adică un animal naște o dată la 2 ani. Deci\n",
    "$$\n",
    "x'=0.5x\n",
    "$$\n",
    "($b$ este rata de nașteri per capita). Unitatea de măsură pentru $b$ este animal/animal/an=$\\frac{1}{an}$. Să luăm un alt model în care animalele doar mor. Atunci $x'=-dx$, unde $d$ este rata de morți. Am presupus de asemenea că toate animalele trăiesc același număr de ani, rata de decese nu depinde de numărul de animale, rata de decese nu depinde de timp. Avem deci $x'=-dx$. \n",
    "\n",
    "Cele două modele simplificate pot fi unificate prin $x'=bx-dx=(b-d)x=rx$, unde $r$ este rata de creștere a populației. "
   ]
  },
  {
   "cell_type": "markdown",
   "id": "8bbce3f4",
   "metadata": {},
   "source": [
    "### Un model cu aglomerare"
   ]
  },
  {
   "cell_type": "markdown",
   "id": "a4de625d",
   "metadata": {},
   "source": [
    "Evident modelul $x'=bx$ este complet nerealist. Luăm în considerare faptul că resursele sînt limitate, deci există competiție pentru ele. Prin urmare $x'=b\\cdot f\\cdot x$, unde $f<1$ este factorul de aglomerare. Să presupunem că mediul are o capacitate de încărcare $k$ (numărul maxim de animale pe care o poate susține). Atunci $\\frac{x}{k}$ reprezintă resursele utilizate de populația curentă și deci $\\left(1-\\frac{x}{k}\\right)$ sînt resursele rămase libere. Deci \n",
    "$$\n",
    "x'=bx\\left(1-\\frac{x}{k}\\right).\n",
    "$$\n",
    "Aceasta este **ecuația logistică**, foarte importantă și cu care ne vom mai întîlni adesea."
   ]
  },
  {
   "cell_type": "markdown",
   "id": "dedec8bf",
   "metadata": {},
   "source": [
    "### Arcuri"
   ]
  },
  {
   "cell_type": "markdown",
   "id": "8c12c1c8",
   "metadata": {},
   "source": [
    "Să luăm acum un sistem format dintr-un arc și o greutate care se mișcă la capătul său. În această situație avem nevoie de 2 variabile, anume poziția (centrului de greutate) greutății $x$, dar și viteza sa $v$. Ecuațiile de schimbare vor fi\n",
    "$$\n",
    "\\begin{eqnarray}\n",
    "x' & = & f(x,v) \\\\\n",
    "v' & = & g(x,v).\n",
    "\\end{eqnarray}\n",
    "$$\n",
    "Prima ecuație este foarte simplă, dată de definiția vitezei: $x'=v$. Pentru $v'$ trebuie să aducem aminte de legea lui Newton $F=ma$, unde $a=v'$. Deci $v'=\\frac{F}{m}$. Valoarea lui $F$ provine din legea lui Hooke $F=-kx$.Deci sistemul de ecuații este:\n",
    "$$\n",
    "\\begin{eqnarray}\n",
    "x' & = & v \\\\\n",
    "v' & = & -\\frac{k}{m} x.\n",
    "\\end{eqnarray}\n",
    "$$\n",
    "Dacă ne alegem sistemul de unități astfel încît $\\frac{k}{m}=1$, atunci sistemul ia forma mai simplă\n",
    "$$\n",
    "\\begin{eqnarray}\n",
    "x' & = & v \\\\\n",
    "v' & = & -x.\n",
    "\\end{eqnarray}\n",
    "$$"
   ]
  },
  {
   "cell_type": "markdown",
   "id": "93421a52",
   "metadata": {},
   "source": [
    "### Rîși și iepuri"
   ]
  },
  {
   "cell_type": "markdown",
   "id": "539b1ae2",
   "metadata": {},
   "source": [
    "Notăm cu $x$ numărul de rîși și cu $y$ numărul de iepuri. Vrem să scriem $x'=$ și $y'=$. Ce schimbă numărul de rîși?\n",
    "În primul rînd rîșii se nasc și mor. Presupunem că rata de deces $d$ este constantă, iar rata de nașteri este proporțională cu cantitatea de pradă. Notăm cu $m$ rata de proporționalitate. De cîte ori un rîs întîlnește un iepure probabilitatea să-l prindă este $\\beta$. În concluzie $x'=m\\beta xy - dx.$ Un raționament analog ne va da $y'=bx-\\beta xy$. Sistemul obținut:\n",
    "$$\n",
    "\\begin{eqnarray}\n",
    "x' & = & m\\beta xy & - & dx \\\\\n",
    "y' & = & by & - & \\beta xy\n",
    "\\end{eqnarray}\n",
    "$$\n",
    "se numește sistemul *Lotka-Volterra*.\n",
    "\n",
    "Pentru a studia calitativ aceste ecuații presupunem că toți parametrii sînt egali cu $1$:\n",
    "$$\n",
    "\\begin{eqnarray}\n",
    "x' & = & xy & - & x \\\\\n",
    "y' & = & y & - & xy\n",
    "\\end{eqnarray}\n",
    "$$\n",
    "care produc comportamentul oscilatoriu observat."
   ]
  },
  {
   "cell_type": "markdown",
   "id": "5490baee",
   "metadata": {},
   "source": [
    "### Infecția cu HIV într-un individ"
   ]
  },
  {
   "cell_type": "markdown",
   "id": "76952af3",
   "metadata": {},
   "source": [
    "Sindromul imuno-deficienței dobîndite (SIDA) este produs de virusul HIV. HIV infectează o anumită clasă de limfocite T ($CD4^+$). După infectarea unei celule, fie aceasta începe imediat să producă viruși și moare în cîteva zile sau preia materialul genetic al virusului, rămîne aparent sănătoasă, dar se poate activa mai tîrziu. Cînd o persoană este infectată concentrația virusului crește foarte mult, dar după cîteva luni scade la un nivel mult mai mic. La început s-a crezut că aceasta se datorează răspunsului imunitar, dar un model din 1996 a arătat că aceasta este posibil și în absența oricărui răspuns imunitar.\n",
    "\n",
    "Variabilele noastre vor fi $V$, cantitatea de viruși, $R$ numărul de celule neinfectate și $E$ numărul celor infectate. Virușii sînt produși de celule, apoi infectează noi celule sau mor. Numărul celor care infectează este mic, deci poate fi ignorat. Presupunem că fiecare celulă infectată produce $100$ de viruși pe zi, și rata de deces este $2$ (adică un virus trăiește în medie 12 ore), deci $$V'=100E-2V.$$ Celulele neinfectate sînt produse de corp, mor natural și pot deveni infectate. În medie sînt produse $0,272$ celule (per mm$^3$), rata de deces este $0,00136$. Pentru a fi infectată o celulă trebuie să întîlnească un virus, ca și în cazul rîșilor și iepurilor aceasta este proporțional cu produsul $RV$. Pe scurt \n",
    "$$\n",
    "R'=0,272-0,00136R-0,00027RV.\n",
    "$$\n",
    "Pentru celulele infectate avem\n",
    "$$\n",
    "E'=0,00027RV-0,33E.\n",
    "$$\n",
    "Rata de mortalitate a celulelor infectate este $0,33$. Grupat sistemul (introdus de Andrew Phillips pornind de la lucrările Angelei McLean) este:\n",
    "$$\n",
    "\\begin{eqnarray}\n",
    "V'&=& 100E-2V \\\\\n",
    "R'&=& 0,272-0,00136R-0,00027RV \\\\\n",
    "E'&=& 0,00027RV-0,33E.\n",
    "\\end{eqnarray}\n",
    "$$\n",
    "Acest model prezice scăderea numărului de viruși, dar nu prevede declanșarea bolii. Există versiuni îmbunătățite, dar mai dificile, care prezic apariția bolii."
   ]
  },
  {
   "cell_type": "markdown",
   "id": "54fbe6b2",
   "metadata": {},
   "source": []
  }
 ],
 "metadata": {
  "kernelspec": {
   "display_name": "SageMath 9.7",
   "language": "sage",
   "name": "sagemath"
  },
  "language_info": {
   "codemirror_mode": {
    "name": "ipython",
    "version": 3
   },
   "file_extension": ".py",
   "mimetype": "text/x-python",
   "name": "python",
   "nbconvert_exporter": "python",
   "pygments_lexer": "ipython3",
   "version": "3.10.7"
  }
 },
 "nbformat": 4,
 "nbformat_minor": 5
}
