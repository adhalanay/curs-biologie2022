{
 "cells": [
  {
   "cell_type": "markdown",
   "id": "1bd58ef0",
   "metadata": {},
   "source": [
    "# Elemente de teoria probabilităților"
   ]
  },
  {
   "cell_type": "markdown",
   "id": "8c98ca7a",
   "metadata": {},
   "source": [
    "## Recapitulare combinatorică"
   ]
  },
  {
   "cell_type": "markdown",
   "id": "312261a7",
   "metadata": {},
   "source": [
    "O **permutare** a unei mulțimi de obiecte este o aranjare ordonată a elementelor. Dacă avem $n$ obiecte atunci numărul de permutări\n",
    "se poate calcula astfel: avem $n$ posibiltăți pentru alegerea obiectului de pe locul întîi, apoi $n-1$ posibilități pentru a \n",
    "doua poziție, $n-2$ pentru a treia etc. Deci  numărul de permutări de $n$ obiecte este $n\\cdot(n-1)\\cdot(n-2)\\cdot\\dots1=n!.$\n",
    "\n",
    "Dacă luăm cîte $k$ elemente din cele $n$, numărul permutărilor posibile este \n",
    "$$\n",
    "A_n^k=\\frac{n!}{(n-k)!}.\n",
    "$$\n",
    "\n",
    "Spre exemplu dacă într-un vas se află $4$ bile colorate (de culori diferite). Dacă luăm cîte două bile o dată, atunci \n",
    "avem $$\\frac{4!}{2!}=\\frac{24}{2}=12$$ \n",
    "posibilități.\n",
    "\n",
    "O **combinație** este submulțime *neordonată* a unei mulțimi. Deci într-o combinație nu contează ordinea elementelor. Numărul\n",
    "de combinații de $n$ elemente luate cîte $k$ este\n",
    "$$\n",
    "C_n^k=\\frac{A_n^k}{k!}=\\frac{n!}{k!(n-k)!}.\n",
    "$$\n",
    "\n",
    "Dacă într-un vas sînt $6$ bile colorate și luăm cîte $4$, atunci avem \n",
    "$$\n",
    "C_6^4=\\frac{6!}{2!4!}=\\frac{5\\cdot6}{2}=15.\n",
    "$$\n",
    "\n",
    "Un alt exemplu este dat de comportamentul HIV. După infectarea unei persoane cu HIV acesta suferă numeroase mutații rezultînd\n",
    "numeroase genotipuri. La transmitere însă, doar cîteva genotipuri se transmit. Să presupunem că o persoană infectată posedă\n",
    "150 de genotipuri, dar transmite doar 10 gentotipuri. Cîte posibilități pentru transmiterea genotipurilor sînt?\n",
    "\n",
    "Răspunsul este $$C_{150}^10=\\frac{150!}{10!140!}=1.169.554.298.222.310$$"
   ]
  },
  {
   "cell_type": "code",
   "execution_count": 6,
   "id": "4a344787",
   "metadata": {},
   "outputs": [
    {
     "name": "stdout",
     "output_type": "stream",
     "text": [
      "57133839564458545904789328652610540031895535786011264182548375833179829124845398393126574488675311145377107878746854204162666250198684504466355949195922066574942592095735778929325357290444962472405416790722118445437122269675520000000000000000000000000000000000000\n",
      "13462012475717524605876073858941615558355851148193967190051391468057460367090535696797920946629681836680869097041958983702264048370902871114013579941370766400374327741701139895604871545254810788060989321379840000000000000000000000000000000000\n",
      "3628800\n",
      "1169554298222310\n"
     ]
    },
    {
     "data": {
      "text/plain": [
       "1169554298222310"
      ]
     },
     "execution_count": 6,
     "metadata": {},
     "output_type": "execute_result"
    }
   ],
   "source": [
    "N1=factorial(150)\n",
    "print(N1)\n",
    "N2=factorial(140)\n",
    "print(N2)\n",
    "N3=factorial(10)\n",
    "print(N3)\n",
    "N=N1/(N2*N3)\n",
    "print(N)\n",
    "binomial(150,10)"
   ]
  },
  {
   "cell_type": "markdown",
   "id": "0fe9ec27",
   "metadata": {},
   "source": [
    "## Probabilități"
   ]
  },
  {
   "cell_type": "markdown",
   "id": "9978f535",
   "metadata": {},
   "source": [
    "Teoria Probabilităților măsoară incertitudinea. Avem nevoie de unele noțiuni pentru a aplica riguros această măsură. O noțiune \n",
    "centrală este aceea de **experiment**: este o procedură care poate fi repetată de un număr indefinit de ori în condiții \n",
    "identice. Fiecare aplicare a unui experiment se numește **încercare**. Mulțimea tuturor rezultatelor posibile se numește\n",
    "**spațiul de selecție**.\n",
    "\n",
    "Spre exemplu pentru aruncarea unei monezi, spațiu de selecție este $\\Omega=\\left\\{H,T\\right\\}$. Pentru aruncarea unui zar \n",
    "$\\Omega=\\left\\{1,2,3,4,5,6\\right\\}$. Orice submulțime a spațiului de selecție se numește **eveniment**. Dacă evenimentul\n",
    "constă dintr-un singur rezultat acesta se numește simplu, iar dacă nu se numește compus.\n",
    "\n",
    "Pentru un spațiu de selecție $\\Omega$ și o mulțime de evenimente o **probabilitate** este o funcție $P$ care asociază \n",
    "oricărui eveniment un număr $P(E)$ care reprezintă șansa ca evenimentul $E$ să aibă loc pentru un experiment. Intuitiv este\n",
    "numărul de apariții ale lui $E$ pentru un număr suficient de mare de experimente.\n",
    "\n",
    "Dacă de exemplu experimentul constă în aruncarea unui zar și evenimentul este să iasă $3$, atunci $P(E)=\\frac{1}{6}.$ Dacă \n",
    "evenimentul este să iasă o față impară adică $1,3$ sau $5$. Cum probabilitatea să iasă oricare din fețe este egală cu \n",
    "$\\frac{1}{6}$ atunci pentru evenimentul nostru $P(E)=\\frac{1}{2}.$ Orice funcție de probabilitate trebuie să satisfacă două\n",
    "proprietăți fundamentale:\n",
    " 1. $0 \\leq P(E) \\leq 1;$\n",
    " 2. $P(\\Omega)=1.$\n",
    "\n",
    "Două evenimente $E$ și $F$ se numesc exclusive dacă $E \\cap F = \\emptyset$. Pentru astfel de evenimente probabilitatea trebuie\n",
    "să satisfacă: \n",
    "\n",
    "   3. $P(E \\cup F)=P(E)+P(F).$\n",
    "\n",
    "Cele trei condiții 1,2,3 se numesc *axiomele probabilităților*. O primă consecință importantă a axiomelor este un fapt care\n",
    "este extrem de util în multe situații: \n",
    "$$\n",
    "P(\\Omega \\setminus E)=1-P(E).\n",
    "$$\n",
    "\n",
    "Dacă avem două evenimente $E$ și $F$ nu neapărat exclusive atunci probabilitatea reuniunii lor este\n",
    "  \n",
    "  4. $P(E \\cup F)=P(E)+P(F)-P(E\\cap F)$"
   ]
  },
  {
   "cell_type": "markdown",
   "id": "928bd900",
   "metadata": {},
   "source": [
    "## Probabilități condiționate"
   ]
  },
  {
   "cell_type": "markdown",
   "id": "862c667c",
   "metadata": {},
   "source": [
    "Noțiune de probabilitate condiționată este fundamentală în teoria probabilităților. Aceasta se calculează impunînd niște \n",
    "condiții suplimentare în spațiul de selecție. De exemplu dorim să calculăm probabilitatea să iasă 1 dacă rezultatul aruncării\n",
    "este impar. Evident în acest caz spațiul de selecție este format doar din $1,3$ și $5$. Deci probabilitatea căutată este \n",
    "$\\frac{1}{3}$.\n",
    "\n",
    "Riguros să presupunem că $E$ și $F$ sînt evenimente cu $P(F) > 0.$ Atunci \n",
    "$$\n",
    "P(E|F)=\\frac{P(E\\cap F)}{P(F)}.\n",
    "$$\n",
    "$P(E|F)$ se numește **probabilitatea lui E, condiționată de F**. \n",
    "\n",
    "Boala lui Huntington este o afecțiune genetică produsă de o mutație într-o singură genă. Oamenii pot avea $0$, $1$ sau $2$ copii\n",
    "ale mutației. Cazurile corespunzătoare se numesc homozigotic normal, heterozigot, homozigotic mutant. Indivizii heterozigoți\n",
    "și cei homozigoți mutanți fac boala. Care este probabilitatea ca un copil să fie homozigot, dacă știm că are boala?\n",
    "\n",
    "Fie $D$ evenimentul „bolnav” și $H$ evenimentul „homozigot”. Vedem că $P(D)=\\frac{3}{4}$ și că $P(H \\cap D)=\\frac{1}{4}$, deci\n",
    "$$\n",
    "P(H|D)=\\frac{P(H \\cap D)}{P(D)}=\\frac{\\frac{1}{4}}{\\frac{3}{4}}=\\frac{1}{3}.\n",
    "$$\n",
    "\n",
    "Formula pentru probabilitatea condiționată se poate rescrie $P(E\\cap F)=P(E|F)P(F)$. Dacă fenomenul $F$ nu influențează $E$, atunci $P(E|F)=P(E)$. Spunem că $E$ și $F$ sînt **independente** dacă $$P(E \\cap F)=P(E)P(F).$$ \n",
    "\n",
    "Să arătăm că evenimentele  $E:$„să iasă 10” și $f:$ „să fie caro” sînt indepente. Cum avem $52$ de cărți si patru dintre ele \n",
    "sînt 10 avem \n",
    "$$\n",
    "P(E)=\\frac{4}{52}=\\frac{1}{13}.\n",
    "$$\n",
    "Pentru că sînt cîte $13$ cărți de aceeași culoare avem \n",
    "$$\n",
    "P(F)=\\frac{13}{52}=\\frac{1}{4}.\n",
    "$$\n",
    "Probabilitatea să tragem 10 de caro este\n",
    "$$\n",
    "P(E \\cap F)=\\frac{1}{52}=\\frac{1}{4}\\cdot\\frac{1}{13}=P(E)P(F).\n",
    "$$\n",
    "Deci $E$ și $F$ sînt independente.\n",
    "\n",
    "Putem să folosim probabilități condiționate ca să calculăm probabiltățile necondiționate, dacă reușim să partiționăm\n",
    "spațiul de selecție în părți în care calculele sînt mai ușoare. Concret să presupunem că \n",
    "$$\n",
    "\\Omega = F_1 \\cup F_2 \\cup \\dots \\cup F_k\n",
    "$$\n",
    "cu toate $F_j$ disjuncte două cîte două. Atunci pentru orice eveniment $E$\n",
    "$$\n",
    "P(E)=P(E|F_1)P(F_1)+P(E|F_2)P(F_2)+\\dots+P(E|F_k)P(F_k).\n",
    "$$\n",
    "\n",
    "Să presupunem că un bărbat cu boala Huntington și o femeie fără boală decid să aibă un copil. Care este probabilitatea ca acesta\n",
    "să fie bolnav?\n",
    "\n",
    "Notăm cu $A$ mutația care dă boala și cu $a$ mutația care nu o dă. Atunci genotipul mamei este $aa$, iar cel al tatălui poate fi\n",
    "$AA$ sau $Aa$. Notăm cu $F_1$ primul eveniment și cu $F_2$ cel de-al doilea. Presupunem că $P(F_1)=0.05$ și $P(F_2)=0.95.$ \n",
    "Notăm cu $E$ evenimentul „copilul are boala”. În primul caz copilul va primi o genă $A$ de la tată deci cu siguranță se va \n",
    "îmbolnăvi prin urmare $P(E|F_1)=1$. În cazul al doilea copilul primește de la tată fie gena $A$ fie $a$. Deci probabilitatea\n",
    "$P(E|F_2)=\\frac{1}{2}.$ Folosind principiul aditivității avem\n",
    "$$\n",
    "P(E)=P(E|F_1)P(F_1)+P(E|F_2)P(F_2)=1\\cdot 0.05+\\frac{1}{2}0.95=0.525.\n",
    "$$"
   ]
  },
  {
   "cell_type": "code",
   "execution_count": 1,
   "id": "614eed5c",
   "metadata": {},
   "outputs": [
    {
     "data": {
      "text/plain": [
       "0.525000000000000"
      ]
     },
     "execution_count": 1,
     "metadata": {},
     "output_type": "execute_result"
    }
   ],
   "source": [
    "0.05+0.95/2"
   ]
  },
  {
   "cell_type": "markdown",
   "id": "fb702142",
   "metadata": {},
   "source": [
    "## Regula lui Bayes"
   ]
  },
  {
   "cell_type": "markdown",
   "id": "39d4023c",
   "metadata": {},
   "source": [
    "Adesea cei care încep să studieze teoria probabilităților fac greșeala să creadă că $P(E|F)=P(F|E)$. Revenind la exemplul cu\n",
    "zarul, evenimentul „iese 4” condiționat de „iese par” are probabilitatea $\\frac{1}{3}$, dar invers „iese par” condiționat de\n",
    "„iese 4” are probabilitatea 1. Legătura dintre $P(E|F)$ și $P(F|E)$ este dată de formula lui Bayes\n",
    "$$\n",
    "P(F|E)=\\frac{P(E|F)P(F)}{P(E)}\n",
    "$$\n",
    "cu condiția ca $P(E) > 0$. \n",
    "\n",
    "Un exemplu de aplicare a formulei lui Bayes este dat de testarea HIV: Notăm cu $HIV^+$, respectiv $HIV^-$ faptul că o persoană\n",
    "este infectată, respectiv neinfectată și vom nota cu $T^+$, respectiv $T^-$ rezultatul testului. Probabilitatea ca o personă\n",
    "infectată să aibă testul pozitiv este $0.99$, iar probabilitatea ca o persoană fără HIV să aibă testul negativ este $0.97$. Să\n",
    "presupunem că o persoană face testul care este pozitiv. Care este probabilitatea să fie infestată cu HIV? Presupunem că persoana\n",
    "este luată la întîmplare dintr-o populație unde incidenț HIV este de 10%.\n",
    "\n",
    "Avem $P(T^+|HIV^+)=0.99$, $P(T^-|HIV^-)=0.97$ și $P(HIV^+)=0.1$. Trebuie să calculăm $P(HIV^+|T^+).$ Putem aplica regula lui \n",
    "Bayes dacă știm $P(T^+|HIV^+),P(HIV^+)$ și $P(T^+)$. Avem primele două valori, dar trebuie să o calculăm pe cea de-a treia.\n",
    "$$\n",
    "P(T^+)=P(T^+|HIV^+)P(HIV^+)+P(T^+|HIV^-)P(HIV^-)=0.99\\cdot 0.1+(1-P(T^-|HIV^-))\\cdot 0.9=0.099+0.03\\cdot0.9=0.126\n",
    "$$\n",
    "aplicăm acum regula lui Bayes\n",
    "$$\n",
    "P(HIV^+|T^+)=\\frac{P(T^+|HIV^+)P(HIV^+)}{P(T^+)}=\\frac{0.99\\cdot 0.1}{0.126} \\approx 0.7857.\n",
    "$$"
   ]
  },
  {
   "cell_type": "code",
   "execution_count": 2,
   "id": "121e51a7",
   "metadata": {},
   "outputs": [
    {
     "data": {
      "text/plain": [
       "0.785714285714286"
      ]
     },
     "execution_count": 2,
     "metadata": {},
     "output_type": "execute_result"
    }
   ],
   "source": [
    "0.099+0.03*0.9\n",
    "0.99*0.1/0.126"
   ]
  },
  {
   "cell_type": "markdown",
   "id": "5cdc35ba",
   "metadata": {},
   "source": [
    "## Variabile aleatoare discrete"
   ]
  },
  {
   "cell_type": "markdown",
   "id": "3eb63f50",
   "metadata": {},
   "source": [
    "Adesea în experimentele probabilistice sîntem mai interesați de anumite proprietăți numerice ale rezultatelor decît în \n",
    "rezultatele înseși. De exemplu aruncăm mai multe monede și sîntem interesați cîte „capete” apar, fără să ne inereseze cum \n",
    "obținem aceasta. \n",
    "\n",
    "O **variabilă aleatoare discretă** este o funcție $X:\\Omega \\to M$, unde $M$ este o submulțime discretă a lui $\\mathbb{R}.$\n",
    "Dacă aruncăm două monede atunci $\\Omega=\\left\\{HH,HT,TH,TT\\right\\}.$ Fie $X$ variabila care numără de cîte ori apare $T$.\n",
    "$X:\\Omega \\to \\left\\{0,1,2\\right\\}$, $X(HH)=0$, $X(HT)=X(TH)=1$ și $X(TT)=2$.\n",
    "\n",
    "Fiecărei variabile aleatoare îi asociem mai multe funcții. Prima este **densitatea de probabilitate**: $p_i=P(X=i).$ Densitatea\n",
    "de probabilitate se reprezintă de obicei prin histograme ale căror înălțime este aleasă astfel încît aria este proporțională cu\n",
    "$p_i$. Avem întotdeauna că $p_i \\leq 0$ pentru orice $i$ și mai ales\n",
    "$$\n",
    "\\sum_i p_i=1.\n",
    "$$\n",
    "Deci aria totală a histogramei este $1$.\n",
    "\n",
    "O altă mărime importantă asociată unei variabile aleatoare $X$ este **densitatea cumulativă de probabilitate** a lui $X:$ \n",
    "$$\n",
    "F_i=P(X\\leq i).\n",
    "$$\n",
    "\n",
    "Pentru variabile aleatoare discrete avem ca și în cazul statisticii media și varianța. **Media** unei variabile discrete $X$\n",
    "este\n",
    "$$\n",
    "E[X]=\\sum_i ip_i,\n",
    "$$\n",
    "unde $p_i$ este densitatea de probabilitate. Tradițional, media se mai numește și valoarea așteptată a lui $X$ sau centrul de \n",
    "masă.\n",
    "\n",
    "**Varianța** lui $X$ măsoară cît de mult se poate îndepărta $X$ de medie:\n",
    "$$\n",
    "Var[X]=\\sum_i\\left(i-E[X]\\right)^2p_i.\n",
    "$$\n",
    "\n",
    "**Deviația standard** a lui $X$ este radicalul lui $Var[X].$\n",
    "\n",
    "Două exemple de variabile aleatoare des întîlnite sînt variabilele de tip Bernoulli și cele de tip binomial. \n",
    "\n",
    "Variabilele Bernoulli modelează evenimentele care pot avea doar două valori. O **variabilă Bernoulli** cu pondere $p$ este \n",
    "o variabilă cu $P(X=1)=p$ și $P(X=0)=1-p$.\n",
    "\n",
    "Variabilele binomiale generalizează variabilele Bernoulli la mai multe experimente independente. O **variabilă binomială** cu\n",
    "parametrii $p$ și $n$ ia valori în $\\left\\{0,1,\\dots,n\\right\\}$ și are densitatea de probabilitate\n",
    "$$\n",
    "P(X=i)=C_n^ip^i(1-p)^{n-i}.\n",
    "$$"
   ]
  },
  {
   "cell_type": "code",
   "execution_count": 11,
   "id": "806f1b7f",
   "metadata": {},
   "outputs": [
    {
     "data": {
      "image/png": "[encoded data removed]",
      "text/plain": [
       "Graphics object consisting of 1 graphics primitive"
      ]
     },
     "metadata": {},
     "output_type": "display_data"
    }
   ],
   "source": [
    "lst=[0.07,0.2,0.25,0.2,0.13,0.06,0.03]\n",
    "bar_chart(lst,width=0.9,color=['blue','red','green','orange']).show()"
   ]
  },
  {
   "cell_type": "code",
   "execution_count": null,
   "id": "da266b4f",
   "metadata": {},
   "outputs": [],
   "source": []
  }
 ],
 "metadata": {
  "kernelspec": {
   "display_name": "SageMath 9.7",
   "language": "sage",
   "name": "sagemath"
  },
  "language_info": {
   "codemirror_mode": {
    "name": "ipython",
    "version": 3
   },
   "file_extension": ".py",
   "mimetype": "text/x-python",
   "name": "python",
   "nbconvert_exporter": "python",
   "pygments_lexer": "ipython3",
   "version": "3.10.9"
  }
 },
 "nbformat": 4,
 "nbformat_minor": 5
}
