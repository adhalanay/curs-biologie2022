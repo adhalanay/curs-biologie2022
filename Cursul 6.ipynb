{
 "cells": [
  {
   "cell_type": "markdown",
   "id": "ac77ba55",
   "metadata": {},
   "source": [
    "# Comportament oscilant și haos"
   ]
  },
  {
   "cell_type": "markdown",
   "id": "36997af2",
   "metadata": {},
   "source": [
    "Cînd studiem fenomenele naturale adesea nu ne putem mulțumi cu comportamnetul la echilibru. Adesea modelele nici nu au echilibre sau acestea nu sînt relevante pentru problema studiată. Am văzut deja mai multe situații de comportament oscilant: hormonii oscilează, la fel populațiile ecologice, modelele economice implică oscilații etc.\n",
    "\n",
    "În științe s-a crezut multă vreme că doar comportamentul la echilibru este posibil, cele oscilante au fost accepatate cu mare dificultate.\n",
    "\n",
    "Unul dintre domeniile unde a fost respinsă comportarea oscilantă a fost chimia, dar în 1958 B.P. Belousov studiind reducerea bromurilor cu acid malonic. El a observat că lichidul incolor inițial se colora în galben, apoi se decolora și ciclul se repeta.\n",
    "A fost foarte greu ca acest rezultat să fie acceptat, deoarece părea să violeze principiul al doilea al termodinamicii, dar în timp au fost descoperite multe alte reacții care au un comportament oscilant.\n",
    "\n",
    "În fiziologie există multe fenomene oscilante:\n",
    "  - Temperatura corporală a tuturor mamiferelor oscilează cu pîna la $1^\\circ C$ în 24 de ore;\n",
    "  - Secreția de hormoni la toate mamiferelor prezintă oscilații pe durata unei zile;\n",
    "  - Genele se exprimă adesea ciclic cu cicli de la cîtreva ore la cîteva zile.\n",
    "\n",
    "Comportarea oscilatorie poate fi gîndită ca un echilibru dinamic. Pentru a studia riguros acest lucru avem nevoie de a face deosebirea între comportamentul transient (pe termen scurt) și cel asimptotic (pe termen lung). \n",
    "\n",
    "Pentru un sistem dinamic definim un atractor ca o submulțime $A$ a spațiului fazelor cu proprietatea că are o vecinătate ale cărei puncte sînt atrase de $A$. Riguros avem următoarea definiție:\n",
    "\n",
    "   **Definiție.** Se numește atractor o submulțime $A$ a spațiului fazelor astfel încît pentru vecinătate de condiții inițiale $X_0$, traiectoriile care pleacă din $X_0$ se apropie de $A$, adică $d(x(t), A) \\to 0$ cînd $t \\to \\infty,$ pentru orice $x(0) \\in X_0$.\n",
    "  \n",
    " Am văzut deja exemple de atractori, anume echilibrele stabile. Spre exemplu ecuația logistică cu aglomerare \n",
    "$$\n",
    "x'=bx-\\frac{b}{k}x^2.\n",
    "$$\n",
    "are un echilibru stabil $x=k$. Orice valoare inițială care pornește din apropierea sa este dusă spre $x=k$, dar nu o atinge într-un timp finit. Spunem că punctul se apropie **asimptotic** de echilibru. La fel pentru arcul cu frecare, echilibrul $(0,0)$ \n",
    "atrage asimptotic toate valorile inițiale din apropierea sa.\n",
    "\n",
    "Deci cel mai simplu atractor este echilibrul stabil, numit și atractor punctual.\n",
    "\n",
    "Am văzut deja cîteva sisteme, precum cel pentru arcul fără frecare sau cel pentru interacțiunea rîși-iepuri care prezintă oscilații. Din păcate aceste oscilații nu sînt robuste și mici perturbări ale sistemului duc la dispariția oscilațiilor. Ca să înțelegem acest lucru avem nevoie de cîteva definiții. \n",
    "\n",
    "   **Definiție**. Dacă $x$ este o variabilă de stare, atunci $x$ este o oscilație dacă este periodică, adică există un $P$ cu proprietatea că $x(t+P)=x(t)$ pentru orice $t$;\n",
    "    În spațiul stărilor o orbită este periodică dacă este o curbă închisă.\n",
    "\n",
    "Un atractor care este și o orbită periodică se numește **ciclu limită stabil** sau **atractor ciclu limită**."
   ]
  },
  {
   "cell_type": "markdown",
   "id": "3f201d17",
   "metadata": {},
   "source": []
  }
 ],
 "metadata": {
  "kernelspec": {
   "display_name": "SageMath 9.7",
   "language": "sage",
   "name": "sagemath"
  },
  "language_info": {
   "codemirror_mode": {
    "name": "ipython",
    "version": 3
   },
   "file_extension": ".py",
   "mimetype": "text/x-python",
   "name": "python",
   "nbconvert_exporter": "python",
   "pygments_lexer": "ipython3",
   "version": "3.10.8"
  }
 },
 "nbformat": 4,
 "nbformat_minor": 5
}
