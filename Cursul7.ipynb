{
 "cells": [
  {
   "cell_type": "markdown",
   "id": "e22b21be",
   "metadata": {},
   "source": [
    "# Algebră liniară"
   ]
  },
  {
   "cell_type": "markdown",
   "id": "5509bd3f",
   "metadata": {},
   "source": [
    "## Aplicații liniare și sisteme dinamice"
   ]
  },
  {
   "cell_type": "markdown",
   "id": "785db5f2",
   "metadata": {},
   "source": []
  }
 ],
 "metadata": {
  "kernelspec": {
   "display_name": "SageMath 9.7",
   "language": "sage",
   "name": "sagemath"
  },
  "language_info": {
   "codemirror_mode": {
    "name": "ipython",
    "version": 3
   },
   "file_extension": ".py",
   "mimetype": "text/x-python",
   "name": "python",
   "nbconvert_exporter": "python",
   "pygments_lexer": "ipython3",
   "version": "3.10.8"
  }
 },
 "nbformat": 4,
 "nbformat_minor": 5
}
